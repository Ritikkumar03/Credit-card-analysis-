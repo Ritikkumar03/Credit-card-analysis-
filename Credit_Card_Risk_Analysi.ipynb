{
  "metadata": {
    "kernelspec": {
      "name": "python3",
      "display_name": "Python 3",
      "language": "python"
    },
    "language_info": {
      "name": "python",
      "version": "3.10.13",
      "mimetype": "text/x-python",
      "codemirror_mode": {
        "name": "ipython",
        "version": 3
      },
      "pygments_lexer": "ipython3",
      "nbconvert_exporter": "python",
      "file_extension": ".py"
    },
    "kaggle": {
      "accelerator": "none",
      "dataSources": [
        {
          "sourceId": 1031720,
          "sourceType": "datasetVersion",
          "datasetId": 426827
        }
      ],
      "dockerImageVersionId": 30698,
      "isInternetEnabled": true,
      "language": "python",
      "sourceType": "notebook",
      "isGpuEnabled": false
    },
    "colab": {
      "provenance": []
    }
  },
  "nbformat_minor": 0,
  "nbformat": 4,
  "cells": [
    {
      "source": [
        "# IMPORTANT: RUN THIS CELL IN ORDER TO IMPORT YOUR KAGGLE DATA SOURCES,\n",
        "# NOTE: THIS NOTEBOOK ENVIRONMENT DIFFERS FROM KAGGLE'S PYTHON\n",
        "# ENVIRONMENT SO THERE MAY BE MISSING LIBRARIES USED BY YOUR\n",
        "# NOTEBOOK.\n",
        "import kagglehub\n",
        "rikdifos_credit_card_approval_prediction_path = kagglehub.dataset_download('rikdifos/credit-card-approval-prediction')\n",
        "\n",
        "print('Data source import complete.')\n"
      ],
      "metadata": {
        "id": "UyltKSdZpC6a"
      },
      "cell_type": "code",
      "outputs": [],
      "execution_count": null
    },
    {
      "cell_type": "markdown",
      "source": [
        "<div style=\"text-align:center; border: 1px solid #808080; padding: 10px;\">\n",
        "  <h1 style=\"color: gray; font-weight: bold;\">Credit Card Predictive Analysis | EDA:</h1>\n",
        "</div>\n"
      ],
      "metadata": {
        "id": "6H_KEc_tpC6e"
      }
    },
    {
      "cell_type": "markdown",
      "source": [
        "# **Problem Statement**\n",
        "\n",
        "Credit score cards are used in the financial industry to predict the likelihood of credit card defaults and guide the issuance of credit cards. These scores rely on applicants' personal data and historical information, quantifying risk objectively.\n",
        "\n",
        "**This project wants to help banks decide who should get a credit card.**"
      ],
      "metadata": {
        "id": "F5KVjnxCpC6i"
      }
    },
    {
      "cell_type": "markdown",
      "source": [
        "# **Loading Libraries**"
      ],
      "metadata": {
        "id": "4f8hX0TVpC6k"
      }
    },
    {
      "cell_type": "code",
      "source": [
        "# loading libraries\n",
        "\n",
        "# general libraries\n",
        "import pandas as pd\n",
        "import numpy as np\n",
        "\n",
        "# visualization libraries\n",
        "import seaborn as sns\n",
        "import matplotlib.pyplot as plt\n",
        "\n",
        "# stats libraries\n",
        "import scipy.stats as stats\n",
        "from statsmodels.stats.outliers_influence import variance_inflation_factor\n",
        "\n",
        "# machine learning libraries\n",
        "from sklearn.model_selection import train_test_split\n",
        "from sklearn.preprocessing import StandardScaler , LabelEncoder\n",
        "from sklearn.metrics import accuracy_score , classification_report, f1_score, precision_score, recall_score"
      ],
      "metadata": {
        "execution": {
          "iopub.status.busy": "2024-05-17T07:25:26.876021Z",
          "iopub.execute_input": "2024-05-17T07:25:26.876563Z",
          "iopub.status.idle": "2024-05-17T07:25:29.884845Z",
          "shell.execute_reply.started": "2024-05-17T07:25:26.876521Z",
          "shell.execute_reply": "2024-05-17T07:25:29.883835Z"
        },
        "trusted": true,
        "id": "gNQa9XmwpC6m"
      },
      "execution_count": null,
      "outputs": []
    },
    {
      "cell_type": "markdown",
      "source": [
        "# **Column Description of Application Record Dataset:**\n",
        "\n",
        "| Feature Name        | Explanation                  | Remarks                                                  |\n",
        "|---------------------|------------------------------|----------------------------------------------------------|\n",
        "| ID                  | Client number                |                                                          |\n",
        "| CODE_GENDER         | Gender                       |                                                          |\n",
        "| FLAG_OWN_CAR        | Is there a car               |                                                          |\n",
        "| FLAG_OWN_REALTY     | Is there a property          |                                                          |\n",
        "| CNT_CHILDREN        | Number of children           |                                                          |\n",
        "| AMT_INCOME_TOTAL    | Annual income                |                                                          |\n",
        "| NAME_INCOME_TYPE    | Income category              |                                                          |\n",
        "| NAME_EDUCATION_TYPE | Education level              |                                                          |\n",
        "| NAME_FAMILY_STATUS  | Marital status               |                                                          |\n",
        "| NAME_HOUSING_TYPE   | Way of living (House Type)                |                                                          |\n",
        "| DAYS_BIRTH          | Birthday                     | Count backwards from current day (0), -1 means yesterday |\n",
        "| DAYS_EMPLOYED       | Start date of employment     | Count backwards from current day(0). If positive, it means the person currently unemployed. |\n",
        "| FLAG_MOBIL          | Is there a mobile phone      |                                                          |\n",
        "| FLAG_WORK_PHONE     | Is there a work phone        |                                                          |\n",
        "| FLAG_PHONE          | Is there a phone             |                                                          |\n",
        "| FLAG_EMAIL          | Is there an email            |                                                          |\n",
        "| OCCUPATION_TYPE     | Occupation                   |                                                          |\n",
        "| CNT_FAM_MEMBERS     | Family size                  |                                                          |\n"
      ],
      "metadata": {
        "id": "8NiMF4DcpC6q"
      }
    },
    {
      "cell_type": "markdown",
      "source": [
        "# **Loading Dataset(Application Record)**"
      ],
      "metadata": {
        "id": "7rviBKE1pC6t"
      }
    },
    {
      "cell_type": "code",
      "source": [
        "# loading the datatset containing application record\n",
        "\n",
        "df_application_record = pd.read_csv('/kaggle/input/credit-card-approval-prediction/application_record.csv')\n",
        "\n",
        "# previewing the dataset\n",
        "\n",
        "df_application_record.head()"
      ],
      "metadata": {
        "execution": {
          "iopub.status.busy": "2024-05-17T07:25:29.886862Z",
          "iopub.execute_input": "2024-05-17T07:25:29.88777Z",
          "iopub.status.idle": "2024-05-17T07:25:31.951254Z",
          "shell.execute_reply.started": "2024-05-17T07:25:29.887735Z",
          "shell.execute_reply": "2024-05-17T07:25:31.950133Z"
        },
        "trusted": true,
        "id": "BQ-W5KHWpC6u"
      },
      "execution_count": null,
      "outputs": []
    },
    {
      "cell_type": "markdown",
      "source": [
        "# **Getting know about the dataset(Application Record)**"
      ],
      "metadata": {
        "id": "32Gd-2iWpC6v"
      }
    },
    {
      "cell_type": "code",
      "source": [
        "# checking shape of the dataset (application_record)\n",
        "\n",
        "print('The number of rows in Application Record dataset is', df_application_record.shape[0] , '\\n')\n",
        "\n",
        "print('The number of columns in Application Record dataset is', df_application_record.shape[1])"
      ],
      "metadata": {
        "execution": {
          "iopub.status.busy": "2024-05-17T07:25:31.952742Z",
          "iopub.execute_input": "2024-05-17T07:25:31.953073Z",
          "iopub.status.idle": "2024-05-17T07:25:31.959785Z",
          "shell.execute_reply.started": "2024-05-17T07:25:31.953044Z",
          "shell.execute_reply": "2024-05-17T07:25:31.95821Z"
        },
        "trusted": true,
        "id": "qpLSw89TpC6x"
      },
      "execution_count": null,
      "outputs": []
    },
    {
      "cell_type": "code",
      "source": [
        "df_application_record.dtypes # checking datatypes"
      ],
      "metadata": {
        "execution": {
          "iopub.status.busy": "2024-05-17T07:25:31.962176Z",
          "iopub.execute_input": "2024-05-17T07:25:31.962746Z",
          "iopub.status.idle": "2024-05-17T07:25:31.979284Z",
          "shell.execute_reply.started": "2024-05-17T07:25:31.962715Z",
          "shell.execute_reply": "2024-05-17T07:25:31.978437Z"
        },
        "trusted": true,
        "id": "WEtOazg2pC6y"
      },
      "execution_count": null,
      "outputs": []
    },
    {
      "cell_type": "markdown",
      "source": [
        "# **Column Decription of Credit Record Dataset**\n",
        "\n",
        "| Feature Name    | Explanation     | Remarks                                                                                       |\n",
        "|-----------------|-----------------|-----------------------------------------------------------------------------------------------|\n",
        "| ID              | Client number   |                                                                                               |\n",
        "| MONTHS_BALANCE  | Record month    | The month of the extracted data is the starting point, backwards, 0 is the current month, -1 is the previous month, and so on |\n",
        "| STATUS          | Status          | 0: 1-29 days past due 1: 30-59 days past due 2: 60-89 days overdue 3: 90-119 days overdue 4: 120-149 days overdue 5: Overdue or bad debts, write-offs for more than 150 days C: paid off that month X: No loan for the month |\n"
      ],
      "metadata": {
        "id": "13Q4WXw2pC61"
      }
    },
    {
      "cell_type": "markdown",
      "source": [
        "# **Loading Dataset(Credit Record)**"
      ],
      "metadata": {
        "id": "E5OvcuIYpC61"
      }
    },
    {
      "cell_type": "code",
      "source": [
        "# loading the datatset containing credit record\n",
        "\n",
        "df_credit_record = pd.read_csv('/kaggle/input/credit-card-approval-prediction/credit_record.csv')\n",
        "\n",
        "# previewing the dataset\n",
        "\n",
        "df_credit_record.head()"
      ],
      "metadata": {
        "execution": {
          "iopub.status.busy": "2024-05-17T07:25:31.980813Z",
          "iopub.execute_input": "2024-05-17T07:25:31.981415Z",
          "iopub.status.idle": "2024-05-17T07:25:32.523828Z",
          "shell.execute_reply.started": "2024-05-17T07:25:31.981357Z",
          "shell.execute_reply": "2024-05-17T07:25:32.522525Z"
        },
        "trusted": true,
        "id": "ICXmuo4HpC62",
        "colab": {
          "base_uri": "https://localhost:8080/",
          "height": 228
        },
        "outputId": "55dcc79a-9188-45eb-d103-f9704beac3bf"
      },
      "execution_count": 1,
      "outputs": [
        {
          "output_type": "error",
          "ename": "NameError",
          "evalue": "name 'pd' is not defined",
          "traceback": [
            "\u001b[0;31m---------------------------------------------------------------------------\u001b[0m",
            "\u001b[0;31mNameError\u001b[0m                                 Traceback (most recent call last)",
            "\u001b[0;32m<ipython-input-1-f15e79ca2905>\u001b[0m in \u001b[0;36m<cell line: 0>\u001b[0;34m()\u001b[0m\n\u001b[1;32m      1\u001b[0m \u001b[0;31m# loading the datatset containing credit record\u001b[0m\u001b[0;34m\u001b[0m\u001b[0;34m\u001b[0m\u001b[0m\n\u001b[1;32m      2\u001b[0m \u001b[0;34m\u001b[0m\u001b[0m\n\u001b[0;32m----> 3\u001b[0;31m \u001b[0mdf_credit_record\u001b[0m \u001b[0;34m=\u001b[0m \u001b[0mpd\u001b[0m\u001b[0;34m.\u001b[0m\u001b[0mread_csv\u001b[0m\u001b[0;34m(\u001b[0m\u001b[0;34m'/kaggle/input/credit-card-approval-prediction/credit_record.csv'\u001b[0m\u001b[0;34m)\u001b[0m\u001b[0;34m\u001b[0m\u001b[0;34m\u001b[0m\u001b[0m\n\u001b[0m\u001b[1;32m      4\u001b[0m \u001b[0;34m\u001b[0m\u001b[0m\n\u001b[1;32m      5\u001b[0m \u001b[0;31m# previewing the dataset\u001b[0m\u001b[0;34m\u001b[0m\u001b[0;34m\u001b[0m\u001b[0m\n",
            "\u001b[0;31mNameError\u001b[0m: name 'pd' is not defined"
          ]
        }
      ]
    },
    {
      "cell_type": "markdown",
      "source": [
        "# **Getting know about the dataset(Credit Record)**"
      ],
      "metadata": {
        "id": "Xtx1fi47pC63"
      }
    },
    {
      "cell_type": "code",
      "source": [
        "# checking shape of the dataset (credit_record)\n",
        "\n",
        "print('The number of rows in Credit Record dataset is', df_credit_record.shape[0] , '\\n')\n",
        "\n",
        "print('The number of columns in Credit Record dataset is', df_credit_record.shape[1])"
      ],
      "metadata": {
        "execution": {
          "iopub.status.busy": "2024-05-17T07:25:32.525624Z",
          "iopub.execute_input": "2024-05-17T07:25:32.526085Z",
          "iopub.status.idle": "2024-05-17T07:25:32.532912Z",
          "shell.execute_reply.started": "2024-05-17T07:25:32.526046Z",
          "shell.execute_reply": "2024-05-17T07:25:32.531653Z"
        },
        "trusted": true,
        "id": "B1pl776IpC63"
      },
      "execution_count": null,
      "outputs": []
    },
    {
      "cell_type": "code",
      "source": [
        "# checking data types\n",
        "\n",
        "df_credit_record.dtypes"
      ],
      "metadata": {
        "execution": {
          "iopub.status.busy": "2024-05-17T07:25:32.534554Z",
          "iopub.execute_input": "2024-05-17T07:25:32.534968Z",
          "iopub.status.idle": "2024-05-17T07:25:32.546558Z",
          "shell.execute_reply.started": "2024-05-17T07:25:32.534931Z",
          "shell.execute_reply": "2024-05-17T07:25:32.545451Z"
        },
        "trusted": true,
        "id": "wFVvdn3epC64"
      },
      "execution_count": null,
      "outputs": []
    },
    {
      "cell_type": "markdown",
      "source": [
        "# **Merging two datasets (Basis of common `ID`)**"
      ],
      "metadata": {
        "id": "cYDwx1AcpC66"
      }
    },
    {
      "cell_type": "code",
      "source": [
        "# Merging the two datasets on ID basis\n",
        "\n",
        "df = pd.merge(df_application_record, df_credit_record, on='ID' , how='inner')"
      ],
      "metadata": {
        "execution": {
          "iopub.status.busy": "2024-05-17T07:25:32.547854Z",
          "iopub.execute_input": "2024-05-17T07:25:32.54825Z",
          "iopub.status.idle": "2024-05-17T07:25:33.004529Z",
          "shell.execute_reply.started": "2024-05-17T07:25:32.548209Z",
          "shell.execute_reply": "2024-05-17T07:25:33.003378Z"
        },
        "trusted": true,
        "id": "CAXHWOaHpC67"
      },
      "execution_count": null,
      "outputs": []
    },
    {
      "cell_type": "markdown",
      "source": [
        "# **Previewing the merged dataset**"
      ],
      "metadata": {
        "id": "0EWhat1IpC68"
      }
    },
    {
      "cell_type": "code",
      "source": [
        "# previewing the dataset\n",
        "\n",
        "df.head()"
      ],
      "metadata": {
        "execution": {
          "iopub.status.busy": "2024-05-17T07:25:33.005857Z",
          "iopub.execute_input": "2024-05-17T07:25:33.00678Z",
          "iopub.status.idle": "2024-05-17T07:25:33.036002Z",
          "shell.execute_reply.started": "2024-05-17T07:25:33.006735Z",
          "shell.execute_reply": "2024-05-17T07:25:33.034755Z"
        },
        "trusted": true,
        "id": "eZpE1zp_pC69"
      },
      "execution_count": null,
      "outputs": []
    },
    {
      "cell_type": "markdown",
      "source": [
        "# **Getting know about the merged dataset**"
      ],
      "metadata": {
        "id": "WydrAyqhpC69"
      }
    },
    {
      "cell_type": "code",
      "source": [
        "# checking the shape of the new dataframe\n",
        "\n",
        "print(f'The number of rows in merged dataset (df) = {df.shape[0]} \\n The number of columns in merged dataset (df) is = {df.shape[1]}' )"
      ],
      "metadata": {
        "execution": {
          "iopub.status.busy": "2024-05-17T07:25:33.041696Z",
          "iopub.execute_input": "2024-05-17T07:25:33.042423Z",
          "iopub.status.idle": "2024-05-17T07:25:33.049528Z",
          "shell.execute_reply.started": "2024-05-17T07:25:33.042361Z",
          "shell.execute_reply": "2024-05-17T07:25:33.048206Z"
        },
        "trusted": true,
        "id": "TU5HufHopC6-"
      },
      "execution_count": null,
      "outputs": []
    },
    {
      "cell_type": "markdown",
      "source": [
        "# **Checking for missing values & Dealing with them**"
      ],
      "metadata": {
        "id": "pvNlVcDPpC6_"
      }
    },
    {
      "cell_type": "code",
      "source": [
        "# checking for null values\n",
        "\n",
        "df.isna().sum()"
      ],
      "metadata": {
        "execution": {
          "iopub.status.busy": "2024-05-17T07:25:33.05152Z",
          "iopub.execute_input": "2024-05-17T07:25:33.051921Z",
          "iopub.status.idle": "2024-05-17T07:25:33.805528Z",
          "shell.execute_reply.started": "2024-05-17T07:25:33.051886Z",
          "shell.execute_reply": "2024-05-17T07:25:33.804537Z"
        },
        "trusted": true,
        "id": "-ZvdWMLzpC6_"
      },
      "execution_count": null,
      "outputs": []
    },
    {
      "cell_type": "code",
      "source": [
        "# plotting the heatmap to check for null values\n",
        "\n",
        "# definig the figure size\n",
        "plt.figure(figsize=(10, 6))\n",
        "\n",
        "# plotting the heatmap of missing values\n",
        "sns.heatmap(df.isna(), cbar=False , yticklabels=False, cmap='viridis')\n",
        "\n",
        "# defining the title\n",
        "plt.title('Heatmap for Missing Values')\n",
        "plt.xticks(rotation=50)\n",
        "plt.show()"
      ],
      "metadata": {
        "execution": {
          "iopub.status.busy": "2024-05-17T07:25:33.807074Z",
          "iopub.execute_input": "2024-05-17T07:25:33.807374Z",
          "iopub.status.idle": "2024-05-17T07:25:49.499964Z",
          "shell.execute_reply.started": "2024-05-17T07:25:33.807348Z",
          "shell.execute_reply": "2024-05-17T07:25:49.499059Z"
        },
        "trusted": true,
        "id": "nTCBDLMXpC7A"
      },
      "execution_count": null,
      "outputs": []
    },
    {
      "cell_type": "code",
      "source": [
        "# check for the percentage of missing values in `OCCUPATION_TYPE` column\n",
        "\n",
        "df['OCCUPATION_TYPE'].isna().sum() / df.shape[0] * 100"
      ],
      "metadata": {
        "execution": {
          "iopub.status.busy": "2024-05-17T07:25:49.500897Z",
          "iopub.execute_input": "2024-05-17T07:25:49.501202Z",
          "iopub.status.idle": "2024-05-17T07:25:49.574134Z",
          "shell.execute_reply.started": "2024-05-17T07:25:49.501174Z",
          "shell.execute_reply": "2024-05-17T07:25:49.572877Z"
        },
        "trusted": true,
        "id": "UhAB-59npC7B"
      },
      "execution_count": null,
      "outputs": []
    },
    {
      "cell_type": "markdown",
      "source": [
        "---\n",
        "### **Observation:**\n",
        "\n",
        "- There are only one column in our datafrme which has null values.\n",
        "- This column is `OCCUPATION_TYPE` and it has `240048` missing values and it has percentage of `30.86%` missing values\n",
        "\n",
        "- We have only one option which is to drop the column `OCCUPATION_TYPE` because it has a high percentage of missing values and secondly every person has itd own unique record. and we cannot simply impute the missing values with mode\n",
        "\n",
        "----\n",
        "\n"
      ],
      "metadata": {
        "id": "XkTwk1ARpC7B"
      }
    },
    {
      "cell_type": "code",
      "source": [
        "df.drop('OCCUPATION_TYPE', axis=1, inplace=True) # dropping the column `OCCUPATION_TYPE`"
      ],
      "metadata": {
        "execution": {
          "iopub.status.busy": "2024-05-17T07:25:49.575833Z",
          "iopub.execute_input": "2024-05-17T07:25:49.576266Z",
          "iopub.status.idle": "2024-05-17T07:25:49.670557Z",
          "shell.execute_reply.started": "2024-05-17T07:25:49.576229Z",
          "shell.execute_reply": "2024-05-17T07:25:49.669583Z"
        },
        "trusted": true,
        "id": "6xw5psBapC7C"
      },
      "execution_count": null,
      "outputs": []
    },
    {
      "cell_type": "code",
      "source": [
        "# confirming the outcome\n",
        "\n",
        "df.columns"
      ],
      "metadata": {
        "execution": {
          "iopub.status.busy": "2024-05-17T07:25:49.672245Z",
          "iopub.execute_input": "2024-05-17T07:25:49.672589Z",
          "iopub.status.idle": "2024-05-17T07:25:49.679749Z",
          "shell.execute_reply.started": "2024-05-17T07:25:49.672559Z",
          "shell.execute_reply": "2024-05-17T07:25:49.678753Z"
        },
        "trusted": true,
        "id": "Kwh_yArxpC7C"
      },
      "execution_count": null,
      "outputs": []
    },
    {
      "cell_type": "markdown",
      "source": [
        "# **Checking for unique values count in dataframe**"
      ],
      "metadata": {
        "id": "DK9aVh3opC7E"
      }
    },
    {
      "cell_type": "code",
      "source": [
        "# check for the count of unique values in each column\n",
        "\n",
        "df.nunique()"
      ],
      "metadata": {
        "execution": {
          "iopub.status.busy": "2024-05-17T07:25:49.680812Z",
          "iopub.execute_input": "2024-05-17T07:25:49.681103Z",
          "iopub.status.idle": "2024-05-17T07:25:50.249713Z",
          "shell.execute_reply.started": "2024-05-17T07:25:49.681077Z",
          "shell.execute_reply": "2024-05-17T07:25:50.248579Z"
        },
        "trusted": true,
        "id": "3P873GRrpC7E"
      },
      "execution_count": null,
      "outputs": []
    },
    {
      "cell_type": "markdown",
      "source": [
        "---\n",
        "\n",
        "### **Observation:**\n",
        "- Our dataset has `777715` rows but there are only `36457` unique values in `ID` column.\n",
        "- This shows that there maybe duplicates in our dataset\n",
        "---"
      ],
      "metadata": {
        "id": "glPzPatnpC7F"
      }
    },
    {
      "cell_type": "markdown",
      "source": [
        "# **Checking for duplicates**"
      ],
      "metadata": {
        "id": "3Nr88iPwpC7F"
      }
    },
    {
      "cell_type": "code",
      "source": [
        "# checking for duplicates\n",
        "\n",
        "df.duplicated().sum()"
      ],
      "metadata": {
        "execution": {
          "iopub.status.busy": "2024-05-17T07:25:50.251252Z",
          "iopub.execute_input": "2024-05-17T07:25:50.251595Z",
          "iopub.status.idle": "2024-05-17T07:25:51.018543Z",
          "shell.execute_reply.started": "2024-05-17T07:25:50.251566Z",
          "shell.execute_reply": "2024-05-17T07:25:51.017193Z"
        },
        "trusted": true,
        "id": "5P6YrARYpC7n"
      },
      "execution_count": null,
      "outputs": []
    },
    {
      "cell_type": "code",
      "source": [
        "df[df['ID'].duplicated()].head(10)"
      ],
      "metadata": {
        "execution": {
          "iopub.status.busy": "2024-05-17T07:25:51.019986Z",
          "iopub.execute_input": "2024-05-17T07:25:51.020308Z",
          "iopub.status.idle": "2024-05-17T07:25:51.1789Z",
          "shell.execute_reply.started": "2024-05-17T07:25:51.02028Z",
          "shell.execute_reply": "2024-05-17T07:25:51.17787Z"
        },
        "trusted": true,
        "id": "87GSMPCfpC7o"
      },
      "execution_count": null,
      "outputs": []
    },
    {
      "cell_type": "markdown",
      "source": [
        "---"
      ],
      "metadata": {
        "id": "1zkFPayipC7p"
      }
    },
    {
      "cell_type": "code",
      "source": [
        "df[df['ID'].duplicated()].tail(20)"
      ],
      "metadata": {
        "execution": {
          "iopub.status.busy": "2024-05-17T07:25:51.180343Z",
          "iopub.execute_input": "2024-05-17T07:25:51.180723Z",
          "iopub.status.idle": "2024-05-17T07:25:51.363297Z",
          "shell.execute_reply.started": "2024-05-17T07:25:51.180691Z",
          "shell.execute_reply": "2024-05-17T07:25:51.360714Z"
        },
        "trusted": true,
        "id": "KcTwBt0vpC7q"
      },
      "execution_count": null,
      "outputs": []
    },
    {
      "cell_type": "markdown",
      "source": [
        "---\n",
        "\n",
        "### **Observation:**\n",
        "\n",
        "- By carefully checking the dataset we can say that on basis of number of unique enteries in `ID` column we have data of `36457` clients.\n",
        "- And there are no duplicates in our dataset the data of `36457 ID` which is collected on the basis of different months of `MONTHS_BALANCE`\n",
        "---"
      ],
      "metadata": {
        "id": "5RwfJEHTpC7r"
      }
    },
    {
      "cell_type": "markdown",
      "source": [
        "# **Renaming the columns**"
      ],
      "metadata": {
        "id": "ZA7gl6P-pC7s"
      }
    },
    {
      "cell_type": "code",
      "source": [
        "df.columns # checking the columns"
      ],
      "metadata": {
        "execution": {
          "iopub.status.busy": "2024-05-17T07:25:51.364708Z",
          "iopub.execute_input": "2024-05-17T07:25:51.365329Z",
          "iopub.status.idle": "2024-05-17T07:25:51.372597Z",
          "shell.execute_reply.started": "2024-05-17T07:25:51.365295Z",
          "shell.execute_reply": "2024-05-17T07:25:51.371396Z"
        },
        "trusted": true,
        "id": "NoJCNoLbpC7s"
      },
      "execution_count": null,
      "outputs": []
    },
    {
      "cell_type": "code",
      "source": [
        "# renaming columns in a meaning full way\n",
        "\n",
        "df.rename(columns={\n",
        "    'CODE_GENDER': 'gender',\n",
        "    'FLAG_OWN_CAR': 'own_car',\n",
        "    'FLAG_OWN_REALTY': 'own_property',\n",
        "    'CNT_CHILDREN': 'children',\n",
        "    'AMT_INCOME_TOTAL': 'income',\n",
        "    'NAME_INCOME_TYPE': 'income_type',\n",
        "    'NAME_EDUCATION_TYPE': 'education',\n",
        "    'NAME_FAMILY_STATUS': 'family_status',\n",
        "    'NAME_HOUSING_TYPE': 'housing_type',\n",
        "    'FLAG_MOBIL': 'mobile',\n",
        "    'FLAG_WORK_PHONE': 'work_phone',\n",
        "    'FLAG_PHONE': 'phone',\n",
        "    'FLAG_EMAIL': 'email',\n",
        "    'CNT_FAM_MEMBERS': 'family_members',\n",
        "    'MONTHS_BALANCE': 'months_balance',\n",
        "    'STATUS' : 'status',\n",
        "    'DAYS_BIRTH' : 'age_in_days',\n",
        "    'DAYS_EMPLOYED' : 'employment_in_days'\n",
        "\n",
        "} , inplace=True)\n"
      ],
      "metadata": {
        "execution": {
          "iopub.status.busy": "2024-05-17T07:25:51.374491Z",
          "iopub.execute_input": "2024-05-17T07:25:51.375531Z",
          "iopub.status.idle": "2024-05-17T07:25:51.384653Z",
          "shell.execute_reply.started": "2024-05-17T07:25:51.375492Z",
          "shell.execute_reply": "2024-05-17T07:25:51.383418Z"
        },
        "trusted": true,
        "id": "Gfnyyu8WpC7t"
      },
      "execution_count": null,
      "outputs": []
    },
    {
      "cell_type": "code",
      "source": [
        "df.columns"
      ],
      "metadata": {
        "execution": {
          "iopub.status.busy": "2024-05-17T07:25:51.386446Z",
          "iopub.execute_input": "2024-05-17T07:25:51.386976Z",
          "iopub.status.idle": "2024-05-17T07:25:51.397164Z",
          "shell.execute_reply.started": "2024-05-17T07:25:51.386938Z",
          "shell.execute_reply": "2024-05-17T07:25:51.396042Z"
        },
        "trusted": true,
        "id": "A_C6tGlwpC7u"
      },
      "execution_count": null,
      "outputs": []
    },
    {
      "cell_type": "markdown",
      "source": [
        "# **Mapping the values in a meaningful way**"
      ],
      "metadata": {
        "id": "CjjbI33BpC7v"
      }
    },
    {
      "cell_type": "code",
      "source": [
        "# checking for columns with object dtype\n",
        "\n",
        "df.select_dtypes(include='object').columns"
      ],
      "metadata": {
        "execution": {
          "iopub.status.busy": "2024-05-17T07:25:51.398599Z",
          "iopub.execute_input": "2024-05-17T07:25:51.399259Z",
          "iopub.status.idle": "2024-05-17T07:25:51.714723Z",
          "shell.execute_reply.started": "2024-05-17T07:25:51.399231Z",
          "shell.execute_reply": "2024-05-17T07:25:51.71347Z"
        },
        "trusted": true,
        "id": "Z7S6uVfxpC7v"
      },
      "execution_count": null,
      "outputs": []
    },
    {
      "cell_type": "code",
      "source": [
        "# checking for unique values in some columns\n",
        "\n",
        "col = ['gender', 'own_car', 'own_property']\n",
        "\n",
        "for i in col:\n",
        "    print(f'{df[i].value_counts()}')\n",
        "\n"
      ],
      "metadata": {
        "execution": {
          "iopub.status.busy": "2024-05-17T07:25:51.716626Z",
          "iopub.execute_input": "2024-05-17T07:25:51.717Z",
          "iopub.status.idle": "2024-05-17T07:25:52.043053Z",
          "shell.execute_reply.started": "2024-05-17T07:25:51.716969Z",
          "shell.execute_reply": "2024-05-17T07:25:52.04229Z"
        },
        "trusted": true,
        "id": "OPBT1lRDpC7x"
      },
      "execution_count": null,
      "outputs": []
    },
    {
      "cell_type": "code",
      "source": [
        "# maping the values in some columns\n",
        "\n",
        "\n",
        "# mapping unique enteries of gender\n",
        "df['gender'] = df['gender'].map({'F':'female', 'M': 'male'})\n",
        "\n",
        "# mapping unique enteries of own_car\n",
        "df['own_car'] = df['own_car'].map({'N': 'no', 'Y': 'yes'})\n",
        "\n",
        "# mapping unique enteries of own_property\n",
        "df['own_property'] = df['own_property'].map({'N': 'no', 'Y': 'yes'})"
      ],
      "metadata": {
        "execution": {
          "iopub.status.busy": "2024-05-17T07:25:52.044219Z",
          "iopub.execute_input": "2024-05-17T07:25:52.044717Z",
          "iopub.status.idle": "2024-05-17T07:25:52.226867Z",
          "shell.execute_reply.started": "2024-05-17T07:25:52.044689Z",
          "shell.execute_reply": "2024-05-17T07:25:52.225984Z"
        },
        "trusted": true,
        "id": "5ir7YDSapC7x"
      },
      "execution_count": null,
      "outputs": []
    },
    {
      "cell_type": "code",
      "source": [
        "# check for unique values in status column\n",
        "\n",
        "df['status'].value_counts()"
      ],
      "metadata": {
        "execution": {
          "iopub.status.busy": "2024-05-17T07:25:52.228624Z",
          "iopub.execute_input": "2024-05-17T07:25:52.229426Z",
          "iopub.status.idle": "2024-05-17T07:25:52.34355Z",
          "shell.execute_reply.started": "2024-05-17T07:25:52.22936Z",
          "shell.execute_reply": "2024-05-17T07:25:52.342473Z"
        },
        "trusted": true,
        "id": "ttnzdZ1BpC7y"
      },
      "execution_count": null,
      "outputs": []
    },
    {
      "cell_type": "markdown",
      "source": [
        "# **Feature Engineering**"
      ],
      "metadata": {
        "id": "M2DH5PdLpC70"
      }
    },
    {
      "cell_type": "code",
      "source": [
        "# maping the values in status column and storing result in new column\n",
        "\n",
        "df['loan_status'] = df['status'].map({'0': 'first_month_due' , '1': '2nd_month_due', '2' : '3rd_month_overdue',  '3': '4th_month_overdue',\n",
        "                                '4' : '5th_month_overdue', '5' : 'bad_debt' , 'C': 'good' , 'X' : 'no_loan'})\n"
      ],
      "metadata": {
        "execution": {
          "iopub.status.busy": "2024-05-17T07:25:52.345012Z",
          "iopub.execute_input": "2024-05-17T07:25:52.345383Z",
          "iopub.status.idle": "2024-05-17T07:25:52.4202Z",
          "shell.execute_reply.started": "2024-05-17T07:25:52.345339Z",
          "shell.execute_reply": "2024-05-17T07:25:52.419251Z"
        },
        "trusted": true,
        "id": "IuoQMwh9pC70"
      },
      "execution_count": null,
      "outputs": []
    },
    {
      "cell_type": "code",
      "source": [
        "# confirming the outcome\n",
        "\n",
        "df.columns.values"
      ],
      "metadata": {
        "execution": {
          "iopub.status.busy": "2024-05-17T07:25:52.428982Z",
          "iopub.execute_input": "2024-05-17T07:25:52.429332Z",
          "iopub.status.idle": "2024-05-17T07:25:52.435987Z",
          "shell.execute_reply.started": "2024-05-17T07:25:52.429304Z",
          "shell.execute_reply": "2024-05-17T07:25:52.4349Z"
        },
        "trusted": true,
        "id": "Q9Mm_Js5pC71"
      },
      "execution_count": null,
      "outputs": []
    },
    {
      "cell_type": "markdown",
      "source": [
        "# **Exploratory Data Analysis**"
      ],
      "metadata": {
        "id": "ThAhjybppC72"
      }
    },
    {
      "cell_type": "markdown",
      "source": [
        "### **Checking for distribution of `[gender , own_car,  own_property , income_type]`**"
      ],
      "metadata": {
        "id": "859m7dGGpC75"
      }
    },
    {
      "cell_type": "code",
      "source": [
        "\n",
        "# Define the list of column names\n",
        "columns = ['gender', 'own_car', 'own_property']\n",
        "\n",
        "# Create subplots for each column\n",
        "plt.figure(figsize=(16 , 9))  # Adjust the figure size as needed\n",
        "\n",
        "for i in range(len(columns)):\n",
        "    plt.subplot(1, 3, i+1)\n",
        "    plt.title(columns[i])  # Use the column name as the title\n",
        "\n",
        "    # Plot pie chart\n",
        "    counts = df[columns[i]].value_counts()\n",
        "    plt.pie(counts, labels=counts.index, autopct='%1.1f%%'  )\n",
        "\n",
        "    # Add legend with unique values\n",
        "    plt.legend(counts.index)\n",
        "plt.show()\n"
      ],
      "metadata": {
        "execution": {
          "iopub.status.busy": "2024-05-17T07:25:52.437322Z",
          "iopub.execute_input": "2024-05-17T07:25:52.437742Z",
          "iopub.status.idle": "2024-05-17T07:25:53.163006Z",
          "shell.execute_reply.started": "2024-05-17T07:25:52.437704Z",
          "shell.execute_reply": "2024-05-17T07:25:53.161932Z"
        },
        "trusted": true,
        "id": "kOoLQrgqpC75"
      },
      "execution_count": null,
      "outputs": []
    },
    {
      "cell_type": "code",
      "source": [
        "# creating list of specific columns\n",
        "col = ['gender', 'own_car', 'own_property', 'income_type',]\n",
        "\n",
        "# defining the figure size\n",
        "plt.figure(figsize=(15, 6))\n",
        "\n",
        "# plotting the countplot using for loop\n",
        "for i in range(len(col)):\n",
        "    # defining the subplot\n",
        "    plt.subplot(2, 2, i+1)\n",
        "    # adding title\n",
        "    plt.title(col[i])\n",
        "    # plotting the countplot\n",
        "    sns.countplot(data=df, x=df[col[i]])\n",
        "    # rotating the x-axis labels\n",
        "    plt.xticks(rotation=45)\n",
        "# layout adjustment\n",
        "plt.tight_layout()\n",
        "plt.show()"
      ],
      "metadata": {
        "execution": {
          "iopub.status.busy": "2024-05-17T07:25:53.164447Z",
          "iopub.execute_input": "2024-05-17T07:25:53.16548Z",
          "iopub.status.idle": "2024-05-17T07:25:58.75303Z",
          "shell.execute_reply.started": "2024-05-17T07:25:53.165441Z",
          "shell.execute_reply": "2024-05-17T07:25:58.75197Z"
        },
        "trusted": true,
        "id": "fEujvjRjpC76"
      },
      "execution_count": null,
      "outputs": []
    },
    {
      "cell_type": "markdown",
      "source": [
        "----\n",
        "\n",
        "### **Observation:**\n",
        "\n",
        "- There are more Female clients in our dataframe than the male clients\n",
        "- The number of clients who don't have car is more than the number of clients who have car\n",
        "- More number of clients have their own property\n",
        "---"
      ],
      "metadata": {
        "id": "tU8Gw1lUpC78"
      }
    },
    {
      "cell_type": "code",
      "source": [
        "# checking the count of loan status\n",
        "\n",
        "df['loan_status'].value_counts()"
      ],
      "metadata": {
        "execution": {
          "iopub.status.busy": "2024-05-17T07:25:58.754449Z",
          "iopub.execute_input": "2024-05-17T07:25:58.755272Z",
          "iopub.status.idle": "2024-05-17T07:25:58.866502Z",
          "shell.execute_reply.started": "2024-05-17T07:25:58.755241Z",
          "shell.execute_reply": "2024-05-17T07:25:58.865346Z"
        },
        "trusted": true,
        "id": "-AvGfbo5pC78"
      },
      "execution_count": null,
      "outputs": []
    },
    {
      "cell_type": "markdown",
      "source": [
        "---\n",
        "### **Observation:**\n",
        "- Most of the clients in our dataset have paid off their loan for that month\n",
        "- first month loan due and no loan for the month comes at 2nd and 3rd place respectively in terms of value counts\n",
        "- `1527` clients have bad debt\n",
        "\n",
        "---"
      ],
      "metadata": {
        "id": "OSlRLquDpC78"
      }
    },
    {
      "cell_type": "markdown",
      "source": [
        "### **Getting insight from `loan status v/s gender`**"
      ],
      "metadata": {
        "id": "w8F6g3H7pC79"
      }
    },
    {
      "cell_type": "markdown",
      "source": [
        "### *plotting count plot of loan status v/s gender*"
      ],
      "metadata": {
        "id": "OnL2r_8tpC7-"
      }
    },
    {
      "cell_type": "code",
      "source": [
        "# checking the relationship between loan status and gender\n",
        "\n",
        "# defining the figure size\n",
        "plt.figure(figsize=(15, 5))\n",
        "\n",
        "# plotting the countplot\n",
        "sns.countplot(data=df, x=df['loan_status'], hue=df['gender'])\n",
        "\n",
        "# defining the tilte\n",
        "plt.title('loan status v/s gender')\n",
        "# rotating the x-axis labels\n",
        "plt.xticks(rotation=25)\n",
        "plt.show()"
      ],
      "metadata": {
        "execution": {
          "iopub.status.busy": "2024-05-17T07:25:58.867752Z",
          "iopub.execute_input": "2024-05-17T07:25:58.868059Z",
          "iopub.status.idle": "2024-05-17T07:26:01.161332Z",
          "shell.execute_reply.started": "2024-05-17T07:25:58.868033Z",
          "shell.execute_reply": "2024-05-17T07:26:01.160322Z"
        },
        "trusted": true,
        "id": "R4Ch7miipC7_"
      },
      "execution_count": null,
      "outputs": []
    },
    {
      "cell_type": "markdown",
      "source": [
        "### *getting the value count of loan status v/s gender which are less than 10000*"
      ],
      "metadata": {
        "id": "bYfvUByzpC7_"
      }
    },
    {
      "cell_type": "code",
      "source": [
        "# value count of loan status v/s gender\n",
        "filtered_loan = df.groupby('loan_status')['gender'].value_counts()\n",
        "\n",
        "# filtering the values less than 10000\n",
        "filtered_loan[filtered_loan<10000].unstack()"
      ],
      "metadata": {
        "execution": {
          "iopub.status.busy": "2024-05-17T07:26:01.163003Z",
          "iopub.execute_input": "2024-05-17T07:26:01.163473Z",
          "iopub.status.idle": "2024-05-17T07:26:01.333905Z",
          "shell.execute_reply.started": "2024-05-17T07:26:01.163434Z",
          "shell.execute_reply": "2024-05-17T07:26:01.332761Z"
        },
        "trusted": true,
        "id": "YaApde6hpC8A"
      },
      "execution_count": null,
      "outputs": []
    },
    {
      "cell_type": "markdown",
      "source": [
        "### *Bar Plot of the relationship between loan_status and gender which have values less than 10000*"
      ],
      "metadata": {
        "id": "Qhopr18vpC8B"
      }
    },
    {
      "cell_type": "code",
      "source": [
        "# value count of loan status v/s gender\n",
        "filtered_loan = df.groupby('loan_status')['gender'].value_counts()\n",
        "\n",
        "# filtering the values less than 10000\n",
        "\n",
        "plt.figure(figsize=(15, 9))\n",
        "\n",
        "filtered_loan[filtered_loan<10000].unstack().plot(kind='barh')\n",
        "\n",
        "plt.show()"
      ],
      "metadata": {
        "execution": {
          "iopub.status.busy": "2024-05-17T07:26:01.334979Z",
          "iopub.execute_input": "2024-05-17T07:26:01.335292Z",
          "iopub.status.idle": "2024-05-17T07:26:01.767264Z",
          "shell.execute_reply.started": "2024-05-17T07:26:01.335266Z",
          "shell.execute_reply": "2024-05-17T07:26:01.76622Z"
        },
        "trusted": true,
        "id": "CaHnj37ypC8C"
      },
      "execution_count": null,
      "outputs": []
    },
    {
      "cell_type": "markdown",
      "source": [
        "---\n",
        "\n",
        "### **Observation:**\n",
        "\n",
        "- As our dataset has more number of females than males so the count of female is larger than the count of males who have paid off their loan for that month and have no loan for the month\n",
        "- Moreover, the females have more  over due and bad debt than males\n",
        "---"
      ],
      "metadata": {
        "id": "U5SvJhDTpC8C"
      }
    },
    {
      "cell_type": "markdown",
      "source": [
        "#### **Getting insight from `loan status v/s gender`**"
      ],
      "metadata": {
        "id": "TXcZA0tmpC8D"
      }
    },
    {
      "cell_type": "code",
      "source": [
        "df.columns # getting the exact column names"
      ],
      "metadata": {
        "execution": {
          "iopub.status.busy": "2024-05-17T07:26:01.768601Z",
          "iopub.execute_input": "2024-05-17T07:26:01.768938Z",
          "iopub.status.idle": "2024-05-17T07:26:01.776646Z",
          "shell.execute_reply.started": "2024-05-17T07:26:01.768909Z",
          "shell.execute_reply": "2024-05-17T07:26:01.775417Z"
        },
        "trusted": true,
        "id": "u_lI5DXWpC8E"
      },
      "execution_count": null,
      "outputs": []
    },
    {
      "cell_type": "markdown",
      "source": [
        "### *checking value count of` income_type`s*"
      ],
      "metadata": {
        "id": "xTitetwWpC8E"
      }
    },
    {
      "cell_type": "code",
      "source": [
        "# checking the value count of income type\n",
        "\n",
        "df['income_type'].value_counts()"
      ],
      "metadata": {
        "execution": {
          "iopub.status.busy": "2024-05-17T07:26:01.777828Z",
          "iopub.execute_input": "2024-05-17T07:26:01.778209Z",
          "iopub.status.idle": "2024-05-17T07:26:01.901797Z",
          "shell.execute_reply.started": "2024-05-17T07:26:01.778181Z",
          "shell.execute_reply": "2024-05-17T07:26:01.900569Z"
        },
        "trusted": true,
        "id": "CgsPDWmHpC8F"
      },
      "execution_count": null,
      "outputs": []
    },
    {
      "cell_type": "markdown",
      "source": [
        "### *checking the relationship between `income type and gender`*"
      ],
      "metadata": {
        "id": "KthDK5h5pC8F"
      }
    },
    {
      "cell_type": "code",
      "source": [
        "\n",
        "count = df['income_type'].value_counts()\n",
        "\n",
        "plt.figure(figsize=(15, 6))\n",
        "\n",
        "# Plotting the countplot for each unique value of 'income_type'\n",
        "for i in range(len(count)):\n",
        "    plt.subplot(2, 3, i+1)\n",
        "    plt.title(count.index[i])  # Use the unique value of 'income_type' as the title\n",
        "    sns.countplot(data=df[df['income_type'] == count.index[i]], x='gender')\n",
        "\n",
        "plt.tight_layout()  # Adjust the layout to prevent overlapping\n",
        "plt.show()\n"
      ],
      "metadata": {
        "execution": {
          "iopub.status.busy": "2024-05-17T07:26:01.90331Z",
          "iopub.execute_input": "2024-05-17T07:26:01.905034Z",
          "iopub.status.idle": "2024-05-17T07:26:04.601829Z",
          "shell.execute_reply.started": "2024-05-17T07:26:01.904995Z",
          "shell.execute_reply": "2024-05-17T07:26:04.600662Z"
        },
        "trusted": true,
        "id": "bLs6WfE6pC8I"
      },
      "execution_count": null,
      "outputs": []
    },
    {
      "cell_type": "markdown",
      "source": [
        "---\n",
        "### **Observation**\n",
        "- In `Working and Commercial assciate income_type` the number of male clients is half of the female clients\n",
        "- Whereas, in `income_type = Pensioner and  Students` males ATM clients numbers are very less as compared to females\n",
        "---"
      ],
      "metadata": {
        "id": "9PQ8aZu0pC8J"
      }
    },
    {
      "cell_type": "markdown",
      "source": [
        "### **Checking the relationship between `loan status and income type`**"
      ],
      "metadata": {
        "id": "JFiRuzSipC8K"
      }
    },
    {
      "cell_type": "markdown",
      "source": [
        "### *plotting the bar plot of unique values of `loan_status` v/s `income_type`*"
      ],
      "metadata": {
        "id": "ePVk1pvppC8K"
      }
    },
    {
      "cell_type": "code",
      "source": [
        "# checking the relationship between loan status and income type\n",
        "\n",
        "# defining the figure size\n",
        "plt.figure(figsize=(15, 5))\n",
        "\n",
        "# plotting the countplot\n",
        "sns.countplot(data=df, x=df['loan_status'], hue=df['income_type'])\n",
        "\n",
        "# defining the tilte\n",
        "plt.title('Count plot of loan status v/s income type')\n",
        "plt.xticks(rotation=25)\n",
        "plt.show()\n"
      ],
      "metadata": {
        "execution": {
          "iopub.status.busy": "2024-05-17T07:26:04.603025Z",
          "iopub.execute_input": "2024-05-17T07:26:04.603319Z",
          "iopub.status.idle": "2024-05-17T07:26:07.5938Z",
          "shell.execute_reply.started": "2024-05-17T07:26:04.603293Z",
          "shell.execute_reply": "2024-05-17T07:26:07.592808Z"
        },
        "trusted": true,
        "id": "Ip0AYCfZpC8K"
      },
      "execution_count": null,
      "outputs": []
    },
    {
      "cell_type": "markdown",
      "source": [
        "----\n",
        "\n",
        "### **Observation:**\n",
        "\n",
        "- Most of the clients with `working income_type` have paid off their loan for that month\n",
        "- Similar trend can be seen in the income catagories like `first_month_due & no_loan_for_month` working catagory comes top of the list followed by `commercial associates & pensioners`\n",
        "---"
      ],
      "metadata": {
        "id": "B6IWQAU5pC8K"
      }
    },
    {
      "cell_type": "markdown",
      "source": [
        "### *getting insights from `gender v/s income type & loan status` with value counts less than 1000*"
      ],
      "metadata": {
        "id": "TLKXnulBpC8L"
      }
    },
    {
      "cell_type": "code",
      "source": [
        "count = df.groupby('gender')[['income_type' , 'loan_status']].value_counts()\n",
        "\n",
        "count[count<1000].unstack()"
      ],
      "metadata": {
        "execution": {
          "iopub.status.busy": "2024-05-17T07:26:07.595234Z",
          "iopub.execute_input": "2024-05-17T07:26:07.595633Z",
          "iopub.status.idle": "2024-05-17T07:26:08.046017Z",
          "shell.execute_reply.started": "2024-05-17T07:26:07.5956Z",
          "shell.execute_reply": "2024-05-17T07:26:08.044964Z"
        },
        "trusted": true,
        "id": "A9ISUKTtpC8M"
      },
      "execution_count": null,
      "outputs": []
    },
    {
      "cell_type": "code",
      "source": [
        "# checking the relationship between gender v/s income type & loan status\n",
        "count = df.groupby('gender')[['income_type', 'loan_status' ]].value_counts()\n",
        "\n",
        "# plotting the barh plot for [gender v/s income type & loan status] value count less than 1000\n",
        "count[count<1000].unstack().plot(kind='bar' , figsize=(15, 5) , legend=True )\n",
        "# defining the tilte\n",
        "plt.title('Relationship between gender v/s loan status and income type [value count < 1000]')\n",
        "# rotating the x-axis labels\n",
        "plt.xticks(rotation=25)\n",
        "plt.show()\n"
      ],
      "metadata": {
        "execution": {
          "iopub.status.busy": "2024-05-17T07:26:08.047136Z",
          "iopub.execute_input": "2024-05-17T07:26:08.047969Z",
          "iopub.status.idle": "2024-05-17T07:26:09.018146Z",
          "shell.execute_reply.started": "2024-05-17T07:26:08.04794Z",
          "shell.execute_reply": "2024-05-17T07:26:09.017379Z"
        },
        "trusted": true,
        "id": "EIRqKioppC8N"
      },
      "execution_count": null,
      "outputs": []
    },
    {
      "cell_type": "markdown",
      "source": [
        "### *Area Plot of the relationship between gender v/s income type & loan status with value counts less than 1000*"
      ],
      "metadata": {
        "id": "AvyKhXBypC8O"
      }
    },
    {
      "cell_type": "code",
      "source": [
        "# checking the relationship between gender vs income type & loan status\n",
        "count = df.groupby('gender')[['loan_status','income_type']].value_counts()\n",
        "# plotting the area plot for [gender vs income type & loan status] value count less than 1000\n",
        "count[count<1000].unstack().plot(kind='area' , figsize=(15, 9))\n",
        "# defining the tilte\n",
        "plt.title('Relationship between gender vs income type & loan status [value count < 1000]')\n",
        "# rotating the x-axis labels\n",
        "plt.xticks(rotation=25)\n",
        "plt.show()"
      ],
      "metadata": {
        "execution": {
          "iopub.status.busy": "2024-05-17T07:26:09.019201Z",
          "iopub.execute_input": "2024-05-17T07:26:09.019726Z",
          "iopub.status.idle": "2024-05-17T07:26:09.925523Z",
          "shell.execute_reply.started": "2024-05-17T07:26:09.019697Z",
          "shell.execute_reply": "2024-05-17T07:26:09.924402Z"
        },
        "trusted": true,
        "id": "agkrQu4kpC8P"
      },
      "execution_count": null,
      "outputs": []
    },
    {
      "cell_type": "markdown",
      "source": [
        "---\n",
        "### **Observation:**\n",
        "- When we see `loan_status` trends in terms of `income_type` and `gender` we can see that the male with `student inocme_type` has `no_loan for that month`.\n",
        "- Also, In `good & first month due loan_status` the number male students is very low and compared to females.\n",
        "- `State servants income type` in both male and female gender have very less numbers in billing overdue of `loan_status`\n",
        "- Both males and females students has 1 and 0 numbers respectively in `2nd_month_due` of `loan_status`\n",
        "----"
      ],
      "metadata": {
        "id": "X6rR4NPNpC8Q"
      }
    },
    {
      "cell_type": "markdown",
      "source": [
        "### **Getting insights from `education` and `gender`**"
      ],
      "metadata": {
        "id": "Z3VZ1rxapC8Q"
      }
    },
    {
      "cell_type": "markdown",
      "source": [
        "### *checking the value count of `education`*"
      ],
      "metadata": {
        "id": "NpM8muZZpC8Q"
      }
    },
    {
      "cell_type": "code",
      "source": [
        "# checking the value count of education\n",
        "df.education.value_counts()"
      ],
      "metadata": {
        "execution": {
          "iopub.status.busy": "2024-05-17T07:26:09.926987Z",
          "iopub.execute_input": "2024-05-17T07:26:09.927323Z",
          "iopub.status.idle": "2024-05-17T07:26:10.056904Z",
          "shell.execute_reply.started": "2024-05-17T07:26:09.927293Z",
          "shell.execute_reply": "2024-05-17T07:26:10.055697Z"
        },
        "trusted": true,
        "id": "8_dwaTG3pC8R"
      },
      "execution_count": null,
      "outputs": []
    },
    {
      "cell_type": "markdown",
      "source": [
        "### *value count of `education` vs `gender`*"
      ],
      "metadata": {
        "id": "MLWtUMJnpC8R"
      }
    },
    {
      "cell_type": "code",
      "source": [
        "# checking the relationship between gender and education\n",
        "df.groupby('gender')[['education']].value_counts()"
      ],
      "metadata": {
        "execution": {
          "iopub.status.busy": "2024-05-17T07:26:10.058337Z",
          "iopub.execute_input": "2024-05-17T07:26:10.05888Z",
          "iopub.status.idle": "2024-05-17T07:26:10.377138Z",
          "shell.execute_reply.started": "2024-05-17T07:26:10.058849Z",
          "shell.execute_reply": "2024-05-17T07:26:10.376082Z"
        },
        "trusted": true,
        "id": "m4ady0a5pC8S"
      },
      "execution_count": null,
      "outputs": []
    },
    {
      "cell_type": "markdown",
      "source": [
        "### *plotting the value count of `education` vs `gender`*"
      ],
      "metadata": {
        "id": "ErXI9JVppC8T"
      }
    },
    {
      "cell_type": "code",
      "source": [
        "# plotting the countplot for education vs gender\n",
        "df.groupby('gender')[['education']].value_counts().unstack().plot(kind='bar', figsize=(15, 5) , stacked=True)\n",
        "\n",
        "# rotating the x-axis labels\n",
        "plt.xticks(rotation=360)\n",
        "\n",
        "# defining the title\n",
        "plt.title('Relationship between gender and education')\n",
        "plt.show()"
      ],
      "metadata": {
        "execution": {
          "iopub.status.busy": "2024-05-17T07:26:10.378506Z",
          "iopub.execute_input": "2024-05-17T07:26:10.378846Z",
          "iopub.status.idle": "2024-05-17T07:26:11.024154Z",
          "shell.execute_reply.started": "2024-05-17T07:26:10.37882Z",
          "shell.execute_reply": "2024-05-17T07:26:11.023053Z"
        },
        "trusted": true,
        "id": "HY7rzsGMpC8T"
      },
      "execution_count": null,
      "outputs": []
    },
    {
      "cell_type": "markdown",
      "source": [
        "----\n",
        "\n",
        "### **Observation:**\n",
        "- As our dataset has larget number of people with `secondary` education.\n",
        "- Therefore, the number of male and female with `secondary` education is high.\n",
        "- Moreover, the number of `Lower_secondary & Academic degree` is very less in both male and female\n",
        "- The proportion of `Lower_secondary` eduaction is similar for both genders\n",
        "---"
      ],
      "metadata": {
        "id": "Xi1ApVhKpC8U"
      }
    },
    {
      "cell_type": "markdown",
      "source": [
        "### **Getting insights from `education` and `loan_status`**"
      ],
      "metadata": {
        "id": "3erpz9INpC8V"
      }
    },
    {
      "cell_type": "code",
      "source": [
        "# checking the relationship between loan_status and education using groupby function\n",
        "df.groupby('education')[['loan_status']].value_counts().unstack().plot(kind='bar', figsize=(15, 5) , stacked= True)\n",
        "# defining the tilte\n",
        "plt.title('Relationship between loan_status and education')\n",
        "# rotating the x-axis labels\n",
        "plt.xticks(rotation=25)\n",
        "plt.show()"
      ],
      "metadata": {
        "execution": {
          "iopub.status.busy": "2024-05-17T07:26:11.025747Z",
          "iopub.execute_input": "2024-05-17T07:26:11.026082Z",
          "iopub.status.idle": "2024-05-17T07:26:11.793334Z",
          "shell.execute_reply.started": "2024-05-17T07:26:11.026052Z",
          "shell.execute_reply": "2024-05-17T07:26:11.792234Z"
        },
        "trusted": true,
        "id": "exdsOnqOpC8W"
      },
      "execution_count": null,
      "outputs": []
    },
    {
      "cell_type": "markdown",
      "source": [
        "### *plotting the barh plot for education vs loan_status [values < 500]*"
      ],
      "metadata": {
        "id": "meoEbHp6pC8W"
      }
    },
    {
      "cell_type": "code",
      "source": [
        "# checking the relationship between loan_status and education\n",
        "count = df.groupby('education')[['loan_status']].value_counts()\n",
        "\n",
        "# plotting the barh plot for education vs loan_status which have values less than 500\n",
        "count[count<=500].unstack().plot(kind='barh' , figsize=(15, 6))\n",
        "# defining the tilte\n",
        "plt.title('Relationship between loan_status and education [value count < 500]')\n",
        "# rotating the x-axis labels\n",
        "plt.xticks(rotation=25)\n",
        "plt.show()"
      ],
      "metadata": {
        "execution": {
          "iopub.status.busy": "2024-05-17T07:26:11.794906Z",
          "iopub.execute_input": "2024-05-17T07:26:11.795242Z",
          "iopub.status.idle": "2024-05-17T07:26:12.551755Z",
          "shell.execute_reply.started": "2024-05-17T07:26:11.795212Z",
          "shell.execute_reply": "2024-05-17T07:26:12.550666Z"
        },
        "trusted": true,
        "id": "Yrrk6WkGpC8X"
      },
      "execution_count": null,
      "outputs": []
    },
    {
      "cell_type": "markdown",
      "source": [
        "-----\n",
        "\n",
        "### **Observation:**\n",
        "\n",
        "- As our dataset has larget number of people with `secondary` education and they have largest numbers who have paid off their loan\n",
        "- A similar trend can be seen in the `Academic degree` education\n",
        "- The mostly people who have bad debt are from `Lower_secondary & Incomplete higher` education\n",
        "---"
      ],
      "metadata": {
        "id": "HVNYCpdPpC8Y"
      }
    },
    {
      "cell_type": "markdown",
      "source": [
        "### **Getting insights from `housing_type` and `loan_status`**"
      ],
      "metadata": {
        "id": "8uamCyY5pC8Y"
      }
    },
    {
      "cell_type": "markdown",
      "source": [
        "### *unique enteries & value count from `housing_type`*"
      ],
      "metadata": {
        "id": "HTEHS1GHpC8Z"
      }
    },
    {
      "cell_type": "code",
      "source": [
        "# checking the unique enteries from `housing_type` column\n",
        "\n",
        "df['housing_type'].unique()"
      ],
      "metadata": {
        "execution": {
          "iopub.status.busy": "2024-05-17T07:26:12.553364Z",
          "iopub.execute_input": "2024-05-17T07:26:12.553953Z",
          "iopub.status.idle": "2024-05-17T07:26:12.627317Z",
          "shell.execute_reply.started": "2024-05-17T07:26:12.553923Z",
          "shell.execute_reply": "2024-05-17T07:26:12.6264Z"
        },
        "trusted": true,
        "id": "XOOAln24pC8a"
      },
      "execution_count": null,
      "outputs": []
    },
    {
      "cell_type": "code",
      "source": [
        "# checking value counts of `housing_type` column\n",
        "df['housing_type'].value_counts()"
      ],
      "metadata": {
        "execution": {
          "iopub.status.busy": "2024-05-17T07:26:12.628452Z",
          "iopub.execute_input": "2024-05-17T07:26:12.628716Z",
          "iopub.status.idle": "2024-05-17T07:26:12.753124Z",
          "shell.execute_reply.started": "2024-05-17T07:26:12.628694Z",
          "shell.execute_reply": "2024-05-17T07:26:12.752015Z"
        },
        "trusted": true,
        "id": "ZVpGLQnhpC8c"
      },
      "execution_count": null,
      "outputs": []
    },
    {
      "cell_type": "code",
      "source": [
        "# checking the relationship between loan_status and housing_type\n",
        "\n",
        "# defining the figure size\n",
        "plt.figure(figsize=(15, 5))\n",
        "\n",
        "# plotting the countplot\n",
        "sns.countplot(data=df, x=df['loan_status'], hue=df['housing_type'])\n",
        "\n",
        "plt.xticks(rotation=25)\n",
        "plt.title('Relationship between loan_status and housing_type')\n",
        "\n",
        "plt.show()\n"
      ],
      "metadata": {
        "execution": {
          "iopub.status.busy": "2024-05-17T07:26:12.754502Z",
          "iopub.execute_input": "2024-05-17T07:26:12.755435Z",
          "iopub.status.idle": "2024-05-17T07:26:15.672134Z",
          "shell.execute_reply.started": "2024-05-17T07:26:12.755394Z",
          "shell.execute_reply": "2024-05-17T07:26:15.67114Z"
        },
        "trusted": true,
        "id": "FQs2UIqnpC8c"
      },
      "execution_count": null,
      "outputs": []
    },
    {
      "cell_type": "markdown",
      "source": [
        "### *filtering the value counts `housing & loan_status==bad_debt`*"
      ],
      "metadata": {
        "id": "Wm645opRpC8d"
      }
    },
    {
      "cell_type": "code",
      "source": [
        "# checking the relationship between loan_status and housing_type\n",
        "\n",
        "# Group by 'housing_type' and 'loan_status' to get their counts\n",
        "count = df.groupby(['housing_type', 'loan_status']).size()\n",
        "\n",
        "# Get value counts where loan_status is 'bad_devit'\n",
        "bad_loan= count[count.index.get_level_values('loan_status') == 'bad_debt']\n",
        "bad_loan\n"
      ],
      "metadata": {
        "execution": {
          "iopub.status.busy": "2024-05-17T07:26:15.673436Z",
          "iopub.execute_input": "2024-05-17T07:26:15.673758Z",
          "iopub.status.idle": "2024-05-17T07:26:15.843494Z",
          "shell.execute_reply.started": "2024-05-17T07:26:15.673732Z",
          "shell.execute_reply": "2024-05-17T07:26:15.841428Z"
        },
        "trusted": true,
        "id": "XC6dDyX8pC8d"
      },
      "execution_count": null,
      "outputs": []
    },
    {
      "cell_type": "markdown",
      "source": [
        "### *plotting the value count < 1000 from `housing_type & loan_status`*"
      ],
      "metadata": {
        "id": "BDS9RZQ2pC8e"
      }
    },
    {
      "cell_type": "code",
      "source": [
        "count = df.groupby(['housing_type', 'loan_status']).size()\n",
        "count[count<1000].unstack().plot(kind='barh' , figsize=(15, 5) , legend=True )\n",
        "\n",
        "plt.title('Relationship between loan_status and housing_type [value count < 1000]')\n",
        "\n",
        "plt.show()"
      ],
      "metadata": {
        "execution": {
          "iopub.status.busy": "2024-05-17T07:26:15.845337Z",
          "iopub.execute_input": "2024-05-17T07:26:15.84581Z",
          "iopub.status.idle": "2024-05-17T07:26:16.41387Z",
          "shell.execute_reply.started": "2024-05-17T07:26:15.845772Z",
          "shell.execute_reply": "2024-05-17T07:26:16.412743Z"
        },
        "trusted": true,
        "id": "ecVnTqXPpC8f"
      },
      "execution_count": null,
      "outputs": []
    },
    {
      "cell_type": "markdown",
      "source": [
        "---\n",
        "\n",
        "### **Observation:**\n",
        "\n",
        "- Mostly people who have their own house have `good , first month due & no_loan` loan_status which is a positive trend.\n",
        "- People who live `with parents` have largest share in `2nd_month_due` loan_status. This trend is followed by `Municipal apartment , Rented apartment` and `With office apartment` respectively\n",
        "- The people with lowest number of `bad_debt` loan_status are from `office apartment & co apartment` housing type\n",
        "---"
      ],
      "metadata": {
        "id": "gpBjGnpNpC8f"
      }
    },
    {
      "cell_type": "markdown",
      "source": [
        "### **Getting insights from `family_members` and `loan_status`**"
      ],
      "metadata": {
        "id": "xWd4HhtrpC8g"
      }
    },
    {
      "cell_type": "code",
      "source": [
        "df.columns # checking the column names"
      ],
      "metadata": {
        "execution": {
          "iopub.status.busy": "2024-05-17T07:26:16.415073Z",
          "iopub.execute_input": "2024-05-17T07:26:16.415399Z",
          "iopub.status.idle": "2024-05-17T07:26:16.422867Z",
          "shell.execute_reply.started": "2024-05-17T07:26:16.415358Z",
          "shell.execute_reply": "2024-05-17T07:26:16.422085Z"
        },
        "trusted": true,
        "id": "G7GvQNAzpC8h"
      },
      "execution_count": null,
      "outputs": []
    },
    {
      "cell_type": "code",
      "source": [
        "# checking value counts of `family_members`\n",
        "df.family_members.value_counts()"
      ],
      "metadata": {
        "execution": {
          "iopub.status.busy": "2024-05-17T07:26:16.424301Z",
          "iopub.execute_input": "2024-05-17T07:26:16.424898Z",
          "iopub.status.idle": "2024-05-17T07:26:16.456432Z",
          "shell.execute_reply.started": "2024-05-17T07:26:16.424859Z",
          "shell.execute_reply": "2024-05-17T07:26:16.45515Z"
        },
        "trusted": true,
        "id": "VotsveD4pC8h"
      },
      "execution_count": null,
      "outputs": []
    },
    {
      "cell_type": "code",
      "source": [
        "# checking the relationship between loan_status and family_members\n",
        "df.groupby('family_members')[['loan_status']].value_counts().unstack()"
      ],
      "metadata": {
        "execution": {
          "iopub.status.busy": "2024-05-17T07:26:16.457754Z",
          "iopub.execute_input": "2024-05-17T07:26:16.458142Z",
          "iopub.status.idle": "2024-05-17T07:26:16.681885Z",
          "shell.execute_reply.started": "2024-05-17T07:26:16.458113Z",
          "shell.execute_reply": "2024-05-17T07:26:16.680959Z"
        },
        "trusted": true,
        "id": "c8TnsF63pC8i"
      },
      "execution_count": null,
      "outputs": []
    },
    {
      "cell_type": "markdown",
      "source": [
        "----\n",
        "\n",
        "### **Observation:**\n",
        "\n",
        "- Most of the clients have `2` family member\n",
        "- The `loan_status` of the atm users is `good , first month due & no_loan` who have `1 ,2 or 3 family member` which is a positive trend\n",
        "- Wheeras, the number for `loan status = 2nd month due` is comparatively high for `2 family members`\n",
        "---"
      ],
      "metadata": {
        "id": "RCsVSghlpC8j"
      }
    },
    {
      "cell_type": "markdown",
      "source": [
        "### **Checking the relationship between `childern` count &   `loan_status`**"
      ],
      "metadata": {
        "id": "c6vfcyr-pC8j"
      }
    },
    {
      "cell_type": "code",
      "source": [
        "df.select_dtypes(exclude='object').columns # checking the column names with numeric datatype"
      ],
      "metadata": {
        "execution": {
          "iopub.status.busy": "2024-05-17T07:26:16.684034Z",
          "iopub.execute_input": "2024-05-17T07:26:16.684496Z",
          "iopub.status.idle": "2024-05-17T07:26:16.756339Z",
          "shell.execute_reply.started": "2024-05-17T07:26:16.684465Z",
          "shell.execute_reply": "2024-05-17T07:26:16.755164Z"
        },
        "trusted": true,
        "id": "UvG-RFNUpC8j"
      },
      "execution_count": null,
      "outputs": []
    },
    {
      "cell_type": "code",
      "source": [
        "# checking value counts of `children`\n",
        "df.children.value_counts()"
      ],
      "metadata": {
        "execution": {
          "iopub.status.busy": "2024-05-17T07:26:16.757967Z",
          "iopub.execute_input": "2024-05-17T07:26:16.758654Z",
          "iopub.status.idle": "2024-05-17T07:26:16.77616Z",
          "shell.execute_reply.started": "2024-05-17T07:26:16.758616Z",
          "shell.execute_reply": "2024-05-17T07:26:16.775024Z"
        },
        "trusted": true,
        "id": "IlHMj9BFpC8j"
      },
      "execution_count": null,
      "outputs": []
    },
    {
      "cell_type": "code",
      "source": [
        "# checking the relationship between loan_status and children count\n",
        "\n",
        "df.groupby('children')[['loan_status']].value_counts().unstack()"
      ],
      "metadata": {
        "execution": {
          "iopub.status.busy": "2024-05-17T07:26:16.777705Z",
          "iopub.execute_input": "2024-05-17T07:26:16.778081Z",
          "iopub.status.idle": "2024-05-17T07:26:16.9852Z",
          "shell.execute_reply.started": "2024-05-17T07:26:16.778052Z",
          "shell.execute_reply": "2024-05-17T07:26:16.984101Z"
        },
        "trusted": true,
        "id": "FbLXb0bJpC8k"
      },
      "execution_count": null,
      "outputs": []
    },
    {
      "cell_type": "markdown",
      "source": [
        "### **Getting insights from `employment_in_days`**"
      ],
      "metadata": {
        "id": "xKsttNVtpC8l"
      }
    },
    {
      "cell_type": "markdown",
      "source": [
        "### *count of persons who are `unemployed`*"
      ],
      "metadata": {
        "id": "IVKsRmRdpC8l"
      }
    },
    {
      "cell_type": "code",
      "source": [
        "# plotting histogram of employment_in_days\n",
        "df['employment_in_days'].plot(kind = 'hist')\n",
        "# defining the title\n",
        "plt.title('Frequency of employment_in_days')\n",
        "plt.show()\n"
      ],
      "metadata": {
        "execution": {
          "iopub.status.busy": "2024-05-17T07:26:16.986768Z",
          "iopub.execute_input": "2024-05-17T07:26:16.987454Z",
          "iopub.status.idle": "2024-05-17T07:26:17.327976Z",
          "shell.execute_reply.started": "2024-05-17T07:26:16.98741Z",
          "shell.execute_reply": "2024-05-17T07:26:17.327Z"
        },
        "trusted": true,
        "id": "yd9v1gNGpC8m"
      },
      "execution_count": null,
      "outputs": []
    },
    {
      "cell_type": "code",
      "source": [
        "# Filter DataFrame where employment_in_days > 0 to show unemployment count\n",
        "df[df['employment_in_days'] > 0].value_counts().sum()"
      ],
      "metadata": {
        "execution": {
          "iopub.status.busy": "2024-05-17T07:26:17.329157Z",
          "iopub.execute_input": "2024-05-17T07:26:17.32954Z",
          "iopub.status.idle": "2024-05-17T07:26:17.560002Z",
          "shell.execute_reply.started": "2024-05-17T07:26:17.329512Z",
          "shell.execute_reply": "2024-05-17T07:26:17.559037Z"
        },
        "trusted": true,
        "id": "sFbMpDkipC8n"
      },
      "execution_count": null,
      "outputs": []
    },
    {
      "cell_type": "markdown",
      "source": [
        "---\n",
        "\n",
        "### **Observations:**\n",
        "\n",
        "- The value in `employment in days` which are greater than `0` shows the status of the person is `unemployed`\n",
        "- We have `127972` persone who are `unemployed`\n",
        "\n",
        "---"
      ],
      "metadata": {
        "id": "cMcwHZfIpC8n"
      }
    },
    {
      "cell_type": "markdown",
      "source": [
        "### **Checking the relationship between `employment_in_days > 0 (unemployment)` & `loan_status`**"
      ],
      "metadata": {
        "id": "UpuTcNqTpC8p"
      }
    },
    {
      "cell_type": "code",
      "source": [
        "# Filter DataFrame where employment_in_days is greater than 0\n",
        "filtered_df = df[df['employment_in_days'] > 0]\n",
        "\n",
        "# Group by loan_status and calculate value counts\n",
        "filtered_df.groupby('loan_status').size()\n",
        "\n"
      ],
      "metadata": {
        "execution": {
          "iopub.status.busy": "2024-05-17T07:26:17.56117Z",
          "iopub.execute_input": "2024-05-17T07:26:17.561475Z",
          "iopub.status.idle": "2024-05-17T07:26:17.605749Z",
          "shell.execute_reply.started": "2024-05-17T07:26:17.561449Z",
          "shell.execute_reply": "2024-05-17T07:26:17.604771Z"
        },
        "trusted": true,
        "id": "_P69ZyzCpC8q"
      },
      "execution_count": null,
      "outputs": []
    },
    {
      "cell_type": "markdown",
      "source": [
        "---\n",
        "\n",
        "### **Observations:**\n",
        "- The `loan_status` of the most of the `unemployed` persons is `good , first month due & no_loan` which is a positive trend.\n",
        "- Whereas, the `loan_status` of the `bad_debt` for unemployed persons is very low.\n",
        "---"
      ],
      "metadata": {
        "id": "-c5YgMgdpC8r"
      }
    },
    {
      "cell_type": "markdown",
      "source": [
        "# **Data Preprocessing**"
      ],
      "metadata": {
        "id": "vcxWc29mpC8s"
      }
    },
    {
      "cell_type": "code",
      "source": [
        "df.columns # printing exact column names"
      ],
      "metadata": {
        "execution": {
          "iopub.status.busy": "2024-05-17T07:26:17.607155Z",
          "iopub.execute_input": "2024-05-17T07:26:17.607478Z",
          "iopub.status.idle": "2024-05-17T07:26:17.614202Z",
          "shell.execute_reply.started": "2024-05-17T07:26:17.607451Z",
          "shell.execute_reply": "2024-05-17T07:26:17.613131Z"
        },
        "trusted": true,
        "id": "5mlazLRMpC8s"
      },
      "execution_count": null,
      "outputs": []
    },
    {
      "cell_type": "markdown",
      "source": [
        "### *plotting the scatter plot of numeric columns*"
      ],
      "metadata": {
        "id": "3lDKG6xBpC8t"
      }
    },
    {
      "cell_type": "code",
      "source": [
        "# checking the relationship between loan_status and income\n",
        "col = ['children', 'income', 'age_in_days',  'family_members' , 'employment_in_days']\n",
        "\n",
        "# defining the figure size\n",
        "plt.figure(figsize=(15, 6))\n",
        "\n",
        "# plotting the countplot using for loop\n",
        "for i in range(len(col)):\n",
        "    plt.subplot(3, 2, i+1)\n",
        "    plt.title(col[i])  # Use the column name as the title\n",
        "    sns.scatterplot(data=df, y=col[i], x='ID')\n",
        "plt.title('scatterplot of ID vs numeric columns')\n",
        "plt.tight_layout()  # Adjust the layout to prevent overlapping\n",
        "plt.show()"
      ],
      "metadata": {
        "execution": {
          "iopub.status.busy": "2024-05-17T07:26:17.615892Z",
          "iopub.execute_input": "2024-05-17T07:26:17.616217Z",
          "iopub.status.idle": "2024-05-17T07:26:27.145277Z",
          "shell.execute_reply.started": "2024-05-17T07:26:17.616191Z",
          "shell.execute_reply": "2024-05-17T07:26:27.144516Z"
        },
        "trusted": true,
        "id": "8JVKgRDcpC8t"
      },
      "execution_count": null,
      "outputs": []
    },
    {
      "cell_type": "code",
      "source": [
        "df.columns"
      ],
      "metadata": {
        "execution": {
          "iopub.status.busy": "2024-05-17T07:26:27.146476Z",
          "iopub.execute_input": "2024-05-17T07:26:27.147249Z",
          "iopub.status.idle": "2024-05-17T07:26:27.153462Z",
          "shell.execute_reply.started": "2024-05-17T07:26:27.14722Z",
          "shell.execute_reply": "2024-05-17T07:26:27.152052Z"
        },
        "trusted": true,
        "id": "TN8mRZpwpC8u"
      },
      "execution_count": null,
      "outputs": []
    },
    {
      "cell_type": "markdown",
      "source": [
        "### *plotting the boxplot of numeric columns*"
      ],
      "metadata": {
        "id": "1vD13uRrpC8v"
      }
    },
    {
      "cell_type": "code",
      "source": [
        "# checking the relationship between loan_status and income\n",
        "\n",
        "# filtering the list of specific columns\n",
        "col = ['children', 'income', 'age_in_days',  'family_members' ]\n",
        "\n",
        "# defining the figure size\n",
        "plt.figure(figsize=(15, 6))\n",
        "\n",
        "# plotting the countplot using for loop\n",
        "for i in range(len(col)):\n",
        "    plt.subplot(3, 2, i+1)\n",
        "    plt.title(col[i])  # Use the column name as the title\n",
        "    sns.boxplot(data=df, y=col[i])\n",
        "\n",
        "plt.tight_layout()  # Adjust the layout to prevent overlapping\n",
        "plt.show()"
      ],
      "metadata": {
        "execution": {
          "iopub.status.busy": "2024-05-17T07:26:27.154842Z",
          "iopub.execute_input": "2024-05-17T07:26:27.15517Z",
          "iopub.status.idle": "2024-05-17T07:26:28.168515Z",
          "shell.execute_reply.started": "2024-05-17T07:26:27.155142Z",
          "shell.execute_reply": "2024-05-17T07:26:28.167276Z"
        },
        "trusted": true,
        "id": "vV2X1vyVpC8v"
      },
      "execution_count": null,
      "outputs": []
    },
    {
      "cell_type": "markdown",
      "source": [
        "---\n",
        "### **Observations**\n",
        "- As we can see that the outliers are present in three columns:\n",
        "  - income\n",
        "  - children\n",
        "  - family_members\n",
        "- Both scatter plot and box plot are showing outliers in the above mention columns\n",
        "  \n",
        "----"
      ],
      "metadata": {
        "id": "_8bnrycjpC8w"
      }
    },
    {
      "cell_type": "markdown",
      "source": [
        "### *Removing outliers from `['children', 'income' , 'family_members']`*"
      ],
      "metadata": {
        "id": "ID5NLz1IpC8x"
      }
    },
    {
      "cell_type": "code",
      "source": [
        "# removing outliers\n",
        "\n",
        "# filtering the list of specific columns\n",
        "col = ['children', 'income' , 'family_members']\n",
        "\n",
        "# for loop to remove outliers\n",
        "for i in range(len(col)):\n",
        "    # calculating the first and third quartile\n",
        "    q1 = df[col[i]].quantile(0.25)\n",
        "    q3 = df[col[i]].quantile(0.75)\n",
        "    # calculating the interquartile range\n",
        "    iqr = q3 - q1\n",
        "    # calculating the lower and upper bounds\n",
        "    lower_bound = q1 - 1.5 * iqr\n",
        "    upper_bound = q3 + 1.5 * iqr\n",
        "    # replacing the outliers with the median\n",
        "    df[col[i]] = np.where((df[col[i]] >= upper_bound) | (df[col[i]] <= lower_bound), df[col[i]].median() , df[col[i]])"
      ],
      "metadata": {
        "execution": {
          "iopub.status.busy": "2024-05-17T07:26:28.169763Z",
          "iopub.execute_input": "2024-05-17T07:26:28.170125Z",
          "iopub.status.idle": "2024-05-17T07:26:28.259396Z",
          "shell.execute_reply.started": "2024-05-17T07:26:28.170059Z",
          "shell.execute_reply": "2024-05-17T07:26:28.258181Z"
        },
        "trusted": true,
        "id": "PgaaeRb6pC8y"
      },
      "execution_count": null,
      "outputs": []
    },
    {
      "cell_type": "markdown",
      "source": [
        "### *again plotting boxplot to confirm outcomes*"
      ],
      "metadata": {
        "id": "69BUm5fRpC8y"
      }
    },
    {
      "cell_type": "code",
      "source": [
        "col = ['children', 'income', 'age_in_days',  'family_members']\n",
        "\n",
        "plt.figure(figsize=(15, 6))\n",
        "\n",
        "for i in range(len(col)):\n",
        "    plt.subplot(2, 2, i+1)\n",
        "    plt.title(col[i])  # Use the column name as the title\n",
        "    sns.boxplot(data=df, y=col[i])\n",
        "\n",
        "plt.tight_layout()  # Adjust the layout to prevent overlapping\n",
        "plt.show()"
      ],
      "metadata": {
        "execution": {
          "iopub.status.busy": "2024-05-17T07:26:28.260675Z",
          "iopub.execute_input": "2024-05-17T07:26:28.261034Z",
          "iopub.status.idle": "2024-05-17T07:26:29.166628Z",
          "shell.execute_reply.started": "2024-05-17T07:26:28.261005Z",
          "shell.execute_reply": "2024-05-17T07:26:29.165568Z"
        },
        "trusted": true,
        "id": "alkaEnN1pC8z"
      },
      "execution_count": null,
      "outputs": []
    },
    {
      "cell_type": "code",
      "source": [
        "df.select_dtypes(exclude='object').columns"
      ],
      "metadata": {
        "execution": {
          "iopub.status.busy": "2024-05-17T07:26:29.167912Z",
          "iopub.execute_input": "2024-05-17T07:26:29.168418Z",
          "iopub.status.idle": "2024-05-17T07:26:29.249334Z",
          "shell.execute_reply.started": "2024-05-17T07:26:29.168388Z",
          "shell.execute_reply": "2024-05-17T07:26:29.248574Z"
        },
        "trusted": true,
        "id": "KYxAdYKKpC80"
      },
      "execution_count": null,
      "outputs": []
    },
    {
      "cell_type": "markdown",
      "source": [
        "### **Standardization**"
      ],
      "metadata": {
        "id": "TKzQMcIYpC81"
      }
    },
    {
      "cell_type": "code",
      "source": [
        "# filtering the list of specific columns\n",
        "col = ['children', 'income', 'age_in_days',  'family_members']\n",
        "\n",
        "# calling the standard scaler\n",
        "sc = StandardScaler()\n",
        "# for loop to scale the specific columns\n",
        "for i in col:\n",
        "    df[i] = sc.fit_transform(df[[i]])"
      ],
      "metadata": {
        "execution": {
          "iopub.status.busy": "2024-05-17T07:26:29.250544Z",
          "iopub.execute_input": "2024-05-17T07:26:29.251007Z",
          "iopub.status.idle": "2024-05-17T07:26:29.307977Z",
          "shell.execute_reply.started": "2024-05-17T07:26:29.25098Z",
          "shell.execute_reply": "2024-05-17T07:26:29.307059Z"
        },
        "trusted": true,
        "id": "VvVgVPO4pC82"
      },
      "execution_count": null,
      "outputs": []
    },
    {
      "cell_type": "markdown",
      "source": [
        "----"
      ],
      "metadata": {
        "id": "YcUWxzlzpC82"
      }
    },
    {
      "cell_type": "markdown",
      "source": [
        "# ****"
      ],
      "metadata": {
        "id": "hhyx12BCpC83"
      }
    },
    {
      "cell_type": "code",
      "source": [
        "# checking the distribution of loan_status\n",
        "df.loan_status.value_counts().plot(kind='barh', figsize=(15, 5))\n",
        "# defining the title\n",
        "plt.title('Classs Distribution inside Loan Status')\n",
        "plt.show()"
      ],
      "metadata": {
        "execution": {
          "iopub.status.busy": "2024-05-17T07:26:29.309032Z",
          "iopub.execute_input": "2024-05-17T07:26:29.309884Z",
          "iopub.status.idle": "2024-05-17T07:26:29.72232Z",
          "shell.execute_reply.started": "2024-05-17T07:26:29.309851Z",
          "shell.execute_reply": "2024-05-17T07:26:29.721298Z"
        },
        "trusted": true,
        "id": "wv-nHJ9mpC84"
      },
      "execution_count": null,
      "outputs": []
    },
    {
      "cell_type": "markdown",
      "source": [
        "---\n",
        "\n",
        "### **Observation:**\n",
        "\n",
        "- The `loan_status` is our `target variable`.\n",
        "- If we see the class distribution, of our target variable `loan_status`, we can see that our target variable is highly imbalanced.\n",
        "- Which means that we cannot use `logistic regression` on our data.\n",
        "---"
      ],
      "metadata": {
        "id": "h6sBCg_2pC84"
      }
    },
    {
      "cell_type": "code",
      "source": [
        "df.head()"
      ],
      "metadata": {
        "execution": {
          "iopub.status.busy": "2024-05-17T07:26:29.723728Z",
          "iopub.execute_input": "2024-05-17T07:26:29.72404Z",
          "iopub.status.idle": "2024-05-17T07:26:29.744981Z",
          "shell.execute_reply.started": "2024-05-17T07:26:29.724013Z",
          "shell.execute_reply": "2024-05-17T07:26:29.743926Z"
        },
        "trusted": true,
        "id": "ueV308lEpC86"
      },
      "execution_count": null,
      "outputs": []
    },
    {
      "cell_type": "markdown",
      "source": [
        "# **Label Encoding**\n"
      ],
      "metadata": {
        "id": "Dve83y_PpC87"
      }
    },
    {
      "cell_type": "code",
      "source": [
        "df.columns # printing exact column names\n"
      ],
      "metadata": {
        "execution": {
          "iopub.status.busy": "2024-05-17T07:26:29.746308Z",
          "iopub.execute_input": "2024-05-17T07:26:29.746724Z",
          "iopub.status.idle": "2024-05-17T07:26:29.755538Z",
          "shell.execute_reply.started": "2024-05-17T07:26:29.746689Z",
          "shell.execute_reply": "2024-05-17T07:26:29.754558Z"
        },
        "trusted": true,
        "id": "OYd4FqctpC88"
      },
      "execution_count": null,
      "outputs": []
    },
    {
      "cell_type": "code",
      "source": [
        "# filtering the list of specific columns which we need to encode\n",
        "col = ['gender', 'own_car', 'own_property', 'income_type','education', 'family_status', 'housing_type', 'status']\n",
        "\n",
        "# calling the label encoder\n",
        "le = LabelEncoder()\n",
        "\n",
        "# for loop to encode the specific columns\n",
        "for i in col:\n",
        "    df[i] =le.fit_transform(df[i] )\n"
      ],
      "metadata": {
        "execution": {
          "iopub.status.busy": "2024-05-17T07:26:29.756901Z",
          "iopub.execute_input": "2024-05-17T07:26:29.757608Z",
          "iopub.status.idle": "2024-05-17T07:26:31.321764Z",
          "shell.execute_reply.started": "2024-05-17T07:26:29.757568Z",
          "shell.execute_reply": "2024-05-17T07:26:31.320756Z"
        },
        "trusted": true,
        "id": "MAikRLRbpC88"
      },
      "execution_count": null,
      "outputs": []
    },
    {
      "cell_type": "code",
      "source": [
        "df.head() # previewing the dataset"
      ],
      "metadata": {
        "execution": {
          "iopub.status.busy": "2024-05-17T07:26:31.323321Z",
          "iopub.execute_input": "2024-05-17T07:26:31.32378Z",
          "iopub.status.idle": "2024-05-17T07:26:31.345013Z",
          "shell.execute_reply.started": "2024-05-17T07:26:31.323742Z",
          "shell.execute_reply": "2024-05-17T07:26:31.343885Z"
        },
        "trusted": true,
        "id": "1nvaHpU9pC89"
      },
      "execution_count": null,
      "outputs": []
    },
    {
      "cell_type": "markdown",
      "source": [
      ],
      "metadata": {
        "id": "cYXpVppGpC8-"
      }
    },
    {
      "cell_type": "markdown",
      "source": [
        "### **Independence of Observations:**\n",
        "### *Correlation Matrix for Numerical Features*"
      ],
      "metadata": {
        "id": "ZW_ObfVYpC8-"
      }
    },
    {
      "cell_type": "code",
      "source": [
        "# correlation matrix\n",
        "\n",
        "# defining the figure size\n",
        "plt.figure(figsize=(15, 6))\n",
        "# plotting the heatmap\n",
        "sns.heatmap(df[['children', 'income', 'age_in_days',  'family_members', 'employment_in_days', 'months_balance']].corr(), annot=True , cbar=False)\n",
        "# defining the title and rotation of x-axis labels\n",
        "plt.xticks(rotation=25)\n",
        "plt.title('Heatmap for Correlation Matrix for Numerical Features')\n",
        "plt.show()"
      ],
      "metadata": {
        "execution": {
          "iopub.status.busy": "2024-05-17T07:26:31.346502Z",
          "iopub.execute_input": "2024-05-17T07:26:31.347258Z",
          "iopub.status.idle": "2024-05-17T07:26:31.826437Z",
          "shell.execute_reply.started": "2024-05-17T07:26:31.347216Z",
          "shell.execute_reply": "2024-05-17T07:26:31.825307Z"
        },
        "trusted": true,
        "id": "kNSlruVWpC8_"
      },
      "execution_count": null,
      "outputs": []
    },
    {
      "cell_type": "markdown",
      "source": [
        "----\n",
        "### **Observation**\n",
        "- As we can see that `children` and `family_members` are highly correlated with each other\n",
        "- But there is no strong correlation between other numerical features\n",
        "\n",
        "\n",
        "---"
      ],
      "metadata": {
        "id": "eQzVFeygpC9A"
      }
    },
    {
      "cell_type": "markdown",
      "source": [
        "### **Check for Multicollinearity**"
      ],
      "metadata": {
        "id": "NrtidlqzpC9B"
      }
    },
    {
      "cell_type": "markdown",
      "source": [
        "### *Variance Inflation Factor*"
      ],
      "metadata": {
        "id": "fLmjlQzipC9C"
      }
    },
    {
      "cell_type": "code",
      "source": [
        "\n",
        "# Drop 'loan_status' and 'status' columns from col\n",
        "col = df.drop(['loan_status', 'status'], axis=1) # Assume that col is our independent variable\n",
        "\n",
        "# Compute variance inflation factor\n",
        "\n",
        "# Create a dataframe to store the VIF\n",
        "factor  = pd.DataFrame(columns=[\"VIF\", \"Features\"] )\n",
        "# For each column, compute the VIF\n",
        "factor[\"Features\"] = col.columns\n",
        "factor[\"VIF\"] = [variance_inflation_factor(col.values, i) for i in range(col.shape[1])]\n",
        "\n",
        "# Display the results\n",
        "factor"
      ],
      "metadata": {
        "execution": {
          "iopub.status.busy": "2024-05-17T07:26:31.827772Z",
          "iopub.execute_input": "2024-05-17T07:26:31.828272Z",
          "iopub.status.idle": "2024-05-17T07:26:50.730058Z",
          "shell.execute_reply.started": "2024-05-17T07:26:31.828243Z",
          "shell.execute_reply": "2024-05-17T07:26:50.728563Z"
        },
        "trusted": true,
        "id": "F2Eg-wbkpC9C"
      },
      "execution_count": null,
      "outputs": []
    },
    {
      "cell_type": "markdown",
      "source": [
        "---\n",
        "\n",
        "### **Observation**\n",
        "\n",
        "- Multicollinearity occurs when two or more predictor variables in the model are highly correlated.\n",
        "\n",
        "- Variance Inflation Factor (VIF) is 1.0 for all columns except `children`, `family_status` and `mobile` which are highly correlated with each other.\n",
        "- Also, the columns `children` and `family_status` are highly correlated with each other.\n",
        "---"
      ],
      "metadata": {
        "id": "JGvhtxO5pC9E"
      }
    },
    {
      "cell_type": "markdown",
      "source": [
        "# **Model Building**"
      ],
      "metadata": {
        "id": "m-SzD7p7pC9E"
      }
    },
    {
      "cell_type": "markdown",
      "source": [
        "### *Spliting the dataset into Features and Labels*"
      ],
      "metadata": {
        "id": "ACG_guwupC9E"
      }
    },
    {
      "cell_type": "code",
      "source": [
        "X = df.drop(['loan_status' , 'status', 'children' , 'family_members', 'mobile'], axis = 1) # Assume that X is our independent variable\n",
        "\n",
        "y = df['loan_status'] # Assume that y is our dependent variable"
      ],
      "metadata": {
        "execution": {
          "iopub.status.busy": "2024-05-17T07:26:50.736555Z",
          "iopub.execute_input": "2024-05-17T07:26:50.737619Z",
          "iopub.status.idle": "2024-05-17T07:26:50.839761Z",
          "shell.execute_reply.started": "2024-05-17T07:26:50.737541Z",
          "shell.execute_reply": "2024-05-17T07:26:50.838447Z"
        },
        "trusted": true,
        "id": "eWlmA6PkpC9E"
      },
      "execution_count": null,
      "outputs": []
    },
    {
      "cell_type": "code",
      "source": [
        "# checking the column names of independent variable(X)\n",
        "X.columns"
      ],
      "metadata": {
        "execution": {
          "iopub.status.busy": "2024-05-17T07:26:50.841182Z",
          "iopub.execute_input": "2024-05-17T07:26:50.841527Z",
          "iopub.status.idle": "2024-05-17T07:26:50.847967Z",
          "shell.execute_reply.started": "2024-05-17T07:26:50.841498Z",
          "shell.execute_reply": "2024-05-17T07:26:50.846876Z"
        },
        "trusted": true,
        "id": "_gZ7Lfj-pC9F"
      },
      "execution_count": null,
      "outputs": []
    },
    {
      "cell_type": "code",
      "source": [
        "X.head() # previewing the independent variable X"
      ],
      "metadata": {
        "execution": {
          "iopub.status.busy": "2024-05-17T07:26:50.849695Z",
          "iopub.execute_input": "2024-05-17T07:26:50.850092Z",
          "iopub.status.idle": "2024-05-17T07:26:50.875241Z",
          "shell.execute_reply.started": "2024-05-17T07:26:50.850057Z",
          "shell.execute_reply": "2024-05-17T07:26:50.874116Z"
        },
        "trusted": true,
        "id": "BzlawfrNpC9G"
      },
      "execution_count": null,
      "outputs": []
    },
    {
      "cell_type": "code",
      "source": [
        "print(f'The shpape of X ={X.shape} \\n') # checking the shape of X\n",
        "\n",
        "print(f'The shape of y ={y.shape}') # checking the shape of y"
      ],
      "metadata": {
        "execution": {
          "iopub.status.busy": "2024-05-17T07:26:50.876512Z",
          "iopub.execute_input": "2024-05-17T07:26:50.877346Z",
          "iopub.status.idle": "2024-05-17T07:26:50.888031Z",
          "shell.execute_reply.started": "2024-05-17T07:26:50.877304Z",
          "shell.execute_reply": "2024-05-17T07:26:50.886884Z"
        },
        "trusted": true,
        "id": "Z686Dkh8pC9G"
      },
      "execution_count": null,
      "outputs": []
    },
    {
      "cell_type": "markdown",
      "source": [
        "### *Train Test Split*"
      ],
      "metadata": {
        "id": "hO2EJpsmpC9H"
      }
    },
    {
      "cell_type": "code",
      "source": [
        "# splitting the dataset into train and test\n",
        "X_train, X_test, y_train, y_test = train_test_split(X, y, test_size = 0.2, random_state = 42)"
      ],
      "metadata": {
        "execution": {
          "iopub.status.busy": "2024-05-17T07:26:50.889436Z",
          "iopub.execute_input": "2024-05-17T07:26:50.889777Z",
          "iopub.status.idle": "2024-05-17T07:26:51.140023Z",
          "shell.execute_reply.started": "2024-05-17T07:26:50.889729Z",
          "shell.execute_reply": "2024-05-17T07:26:51.13894Z"
        },
        "trusted": true,
        "id": "5YL8IJZ5pC9I"
      },
      "execution_count": null,
      "outputs": []
    },
    {
      "cell_type": "markdown",
      "source": [
        "---\n",
        "\n",
        "### **Observation:**\n",
        "- We have splitted the dataset into 80% train and 20% test\n",
        "- We have used `Random Forest Classifier` as our model\n",
        "- 80% of our dataset is used for training\n",
        "- 20% of our dataset is used for testing\n",
        "---"
      ],
      "metadata": {
        "id": "p6Zgl7mTpC9J"
      }
    },
    {
      "cell_type": "markdown",
      "source": [
        "### *Calling the model*"
      ],
      "metadata": {
        "id": "OfVUuzX2pC9L"
      }
    },
    {
      "cell_type": "code",
      "source": [
        "# instantiating the model\n",
        "model = RandomForestClassifier()"
      ],
      "metadata": {
        "execution": {
          "iopub.status.busy": "2024-05-17T07:26:51.141442Z",
          "iopub.execute_input": "2024-05-17T07:26:51.141769Z",
          "iopub.status.idle": "2024-05-17T07:26:51.146596Z",
          "shell.execute_reply.started": "2024-05-17T07:26:51.141741Z",
          "shell.execute_reply": "2024-05-17T07:26:51.145386Z"
        },
        "trusted": true,
        "id": "f_0vNQPkpC9N"
      },
      "execution_count": null,
      "outputs": []
    },
    {
      "cell_type": "markdown",
      "source": [
        "### *Fitting the model*"
      ],
      "metadata": {
        "id": "uiPjhv-JpC9O"
      }
    },
    {
      "cell_type": "code",
      "source": [
        "# fitting the model\n",
        "model.fit(X_train, y_train )"
      ],
      "metadata": {
        "execution": {
          "iopub.status.busy": "2024-05-17T07:26:51.159803Z",
          "iopub.execute_input": "2024-05-17T07:26:51.160425Z",
          "iopub.status.idle": "2024-05-17T07:29:39.987285Z",
          "shell.execute_reply.started": "2024-05-17T07:26:51.160386Z",
          "shell.execute_reply": "2024-05-17T07:29:39.986179Z"
        },
        "trusted": true,
        "id": "g0D-4zwmpC9O"
      },
      "execution_count": null,
      "outputs": []
    },
    {
      "cell_type": "markdown",
      "source": [
        "### *Predicting the model*"
      ],
      "metadata": {
        "id": "WCRZuGmzpC9O"
      }
    },
    {
      "cell_type": "code",
      "source": [
        "# making predictions on the test set\n",
        "y_pred = model.predict(X_test)"
      ],
      "metadata": {
        "execution": {
          "iopub.status.busy": "2024-05-17T07:29:39.988887Z",
          "iopub.execute_input": "2024-05-17T07:29:39.989423Z",
          "iopub.status.idle": "2024-05-17T07:29:49.094988Z",
          "shell.execute_reply.started": "2024-05-17T07:29:39.989362Z",
          "shell.execute_reply": "2024-05-17T07:29:49.094057Z"
        },
        "trusted": true,
        "id": "8ir-xjAppC9P"
      },
      "execution_count": null,
      "outputs": []
    },
    {
      "cell_type": "markdown",
      "source": [
        "### *Actual vs Predicted*"
      ],
      "metadata": {
        "id": "C0kUFY55pC9P"
      }
    },
    {
      "cell_type": "code",
      "source": [
        "# creating a dataframe to compare the actual and predicted values\n",
        "pd.DataFrame({'Actual': y_test, 'Predicted': y_pred}).head(10)"
      ],
      "metadata": {
        "execution": {
          "iopub.status.busy": "2024-05-17T07:29:49.096518Z",
          "iopub.execute_input": "2024-05-17T07:29:49.097102Z",
          "iopub.status.idle": "2024-05-17T07:29:49.111818Z",
          "shell.execute_reply.started": "2024-05-17T07:29:49.097066Z",
          "shell.execute_reply": "2024-05-17T07:29:49.110768Z"
        },
        "trusted": true,
        "id": "SmpvZ93ApC9P"
      },
      "execution_count": null,
      "outputs": []
    },
    {
      "cell_type": "markdown",
      "source": [
        "### *Model Evaluation*"
      ],
      "metadata": {
        "id": "OO0An9AIpC9Q"
      }
    },
    {
      "cell_type": "code",
      "source": [
        "(f'Accuracy Score : {accuracy_score(y_test, y_pred)*100:.2f} %')"
      ],
      "metadata": {
        "execution": {
          "iopub.status.busy": "2024-05-17T07:29:49.113441Z",
          "iopub.execute_input": "2024-05-17T07:29:49.113853Z",
          "iopub.status.idle": "2024-05-17T07:29:49.450928Z",
          "shell.execute_reply.started": "2024-05-17T07:29:49.113819Z",
          "shell.execute_reply": "2024-05-17T07:29:49.449999Z"
        },
        "trusted": true,
        "id": "AGC6OtgwpC9R"
      },
      "execution_count": null,
      "outputs": []
    },
    {
      "cell_type": "code",
      "source": [
        "print(f\"Precision Score : {precision_score(y_test, y_pred , average = 'micro'):.2f}\")"
      ],
      "metadata": {
        "execution": {
          "iopub.status.busy": "2024-05-17T07:29:49.452289Z",
          "iopub.execute_input": "2024-05-17T07:29:49.452654Z",
          "iopub.status.idle": "2024-05-17T07:29:51.703315Z",
          "shell.execute_reply.started": "2024-05-17T07:29:49.452626Z",
          "shell.execute_reply": "2024-05-17T07:29:51.702543Z"
        },
        "trusted": true,
        "id": "QHvG0TUUpC9R"
      },
      "execution_count": null,
      "outputs": []
    },
    {
      "cell_type": "code",
      "source": [
        "print(f\"F1-Score : {f1_score(y_test, y_pred , average='micro')}\")"
      ],
      "metadata": {
        "execution": {
          "iopub.status.busy": "2024-05-17T07:29:51.704505Z",
          "iopub.execute_input": "2024-05-17T07:29:51.705081Z",
          "iopub.status.idle": "2024-05-17T07:29:53.931983Z",
          "shell.execute_reply.started": "2024-05-17T07:29:51.705052Z",
          "shell.execute_reply": "2024-05-17T07:29:53.930786Z"
        },
        "trusted": true,
        "id": "2HSk4pZ2pC9S"
      },
      "execution_count": null,
      "outputs": []
    },
    {
      "cell_type": "code",
      "source": [
        "# classification report\n",
        "print(classification_report(y_test, y_pred))"
      ],
      "metadata": {
        "execution": {
          "iopub.status.busy": "2024-05-17T07:29:53.933468Z",
          "iopub.execute_input": "2024-05-17T07:29:53.934343Z",
          "iopub.status.idle": "2024-05-17T07:30:03.840419Z",
          "shell.execute_reply.started": "2024-05-17T07:29:53.934304Z",
          "shell.execute_reply": "2024-05-17T07:30:03.839617Z"
        },
        "trusted": true,
        "id": "fjt5LH5XpC9T"
      },
      "execution_count": null,
      "outputs": []
    }
  ]
}
